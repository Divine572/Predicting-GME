{
  "cells": [
    {
      "cell_type": "code",
      "execution_count": 1,
      "metadata": {
        "id": "FbyAsBD0xfHB"
      },
      "outputs": [],
      "source": [
        "# Importing modules\n",
        "import numpy as np \n",
        "import pandas as pd\n",
        "import matplotlib.pyplot as plt\n",
        "import datetime"
      ]
    },
    {
      "cell_type": "code",
      "execution_count": 2,
      "metadata": {
        "id": "_AKj0RJ-xfHC"
      },
      "outputs": [],
      "source": [
        "# Reading in the data\n",
        "GME = pd.read_csv('https://raw.githubusercontent.com/PrasoonPratham/Predicting-GME/main/GME.csv')"
      ]
    },
    {
      "cell_type": "code",
      "execution_count": 3,
      "metadata": {
        "colab": {
          "base_uri": "https://localhost:8080/",
          "height": 199
        },
        "id": "f8mFG0I7xfHC",
        "outputId": "575e5b6f-7a5a-43b8-8b82-a04f0128fdca"
      },
      "outputs": [
        {
          "data": {
            "text/html": "<div>\n<style scoped>\n    .dataframe tbody tr th:only-of-type {\n        vertical-align: middle;\n    }\n\n    .dataframe tbody tr th {\n        vertical-align: top;\n    }\n\n    .dataframe thead th {\n        text-align: right;\n    }\n</style>\n<table border=\"1\" class=\"dataframe\">\n  <thead>\n    <tr style=\"text-align: right;\">\n      <th></th>\n      <th>Date</th>\n      <th>Open</th>\n      <th>High</th>\n      <th>Low</th>\n      <th>Close</th>\n      <th>Adj Close</th>\n      <th>Volume</th>\n    </tr>\n  </thead>\n  <tbody>\n    <tr>\n      <th>0</th>\n      <td>2020-01-21</td>\n      <td>4.75</td>\n      <td>4.75</td>\n      <td>4.55</td>\n      <td>4.59</td>\n      <td>4.59</td>\n      <td>3532100</td>\n    </tr>\n    <tr>\n      <th>1</th>\n      <td>2020-01-22</td>\n      <td>4.55</td>\n      <td>4.64</td>\n      <td>4.46</td>\n      <td>4.56</td>\n      <td>4.56</td>\n      <td>2627500</td>\n    </tr>\n    <tr>\n      <th>2</th>\n      <td>2020-01-23</td>\n      <td>4.55</td>\n      <td>4.64</td>\n      <td>4.46</td>\n      <td>4.62</td>\n      <td>4.62</td>\n      <td>1880200</td>\n    </tr>\n    <tr>\n      <th>3</th>\n      <td>2020-01-24</td>\n      <td>4.64</td>\n      <td>4.64</td>\n      <td>4.25</td>\n      <td>4.32</td>\n      <td>4.32</td>\n      <td>4163600</td>\n    </tr>\n    <tr>\n      <th>4</th>\n      <td>2020-01-27</td>\n      <td>4.20</td>\n      <td>4.35</td>\n      <td>4.16</td>\n      <td>4.28</td>\n      <td>4.28</td>\n      <td>2122500</td>\n    </tr>\n  </tbody>\n</table>\n</div>",
            "text/plain": "         Date  Open  High   Low  Close  Adj Close   Volume\n0  2020-01-21  4.75  4.75  4.55   4.59       4.59  3532100\n1  2020-01-22  4.55  4.64  4.46   4.56       4.56  2627500\n2  2020-01-23  4.55  4.64  4.46   4.62       4.62  1880200\n3  2020-01-24  4.64  4.64  4.25   4.32       4.32  4163600\n4  2020-01-27  4.20  4.35  4.16   4.28       4.28  2122500"
          },
          "execution_count": 3,
          "metadata": {},
          "output_type": "execute_result"
        }
      ],
      "source": [
        "GME.head()"
      ]
    },
    {
      "cell_type": "code",
      "execution_count": 4,
      "metadata": {
        "id": "AW2E7QHexfHG"
      },
      "outputs": [],
      "source": [
        "# Isolating the date and close price\n",
        "GME = GME[['Date', 'Close']]"
      ]
    },
    {
      "cell_type": "code",
      "execution_count": 4,
      "metadata": {
        "colab": {
          "base_uri": "https://localhost:8080/",
          "height": 199
        },
        "id": "URvSnj4_xfHG",
        "outputId": "1c7a5ee4-1e91-41f3-ef88-c93dbfb6bfc1"
      },
      "outputs": [
        {
          "data": {
            "text/html": "<div>\n<style scoped>\n    .dataframe tbody tr th:only-of-type {\n        vertical-align: middle;\n    }\n\n    .dataframe tbody tr th {\n        vertical-align: top;\n    }\n\n    .dataframe thead th {\n        text-align: right;\n    }\n</style>\n<table border=\"1\" class=\"dataframe\">\n  <thead>\n    <tr style=\"text-align: right;\">\n      <th></th>\n      <th>Date</th>\n      <th>Close</th>\n    </tr>\n  </thead>\n  <tbody>\n    <tr>\n      <th>0</th>\n      <td>2020-01-21</td>\n      <td>4.59</td>\n    </tr>\n    <tr>\n      <th>1</th>\n      <td>2020-01-22</td>\n      <td>4.56</td>\n    </tr>\n    <tr>\n      <th>2</th>\n      <td>2020-01-23</td>\n      <td>4.62</td>\n    </tr>\n    <tr>\n      <th>3</th>\n      <td>2020-01-24</td>\n      <td>4.32</td>\n    </tr>\n    <tr>\n      <th>4</th>\n      <td>2020-01-27</td>\n      <td>4.28</td>\n    </tr>\n  </tbody>\n</table>\n</div>",
            "text/plain": "         Date  Close\n0  2020-01-21   4.59\n1  2020-01-22   4.56\n2  2020-01-23   4.62\n3  2020-01-24   4.32\n4  2020-01-27   4.28"
          },
          "execution_count": 4,
          "metadata": {},
          "output_type": "execute_result"
        }
      ],
      "source": [
        "GME.head()"
      ]
    },
    {
      "cell_type": "code",
      "execution_count": 5,
      "metadata": {
        "colab": {
          "base_uri": "https://localhost:8080/"
        },
        "id": "WB5kY_lPxfHG",
        "outputId": "7f9fb706-b3e4-45c7-d786-a7d66e512cce"
      },
      "outputs": [],
      "source": [
        "# Converting the date series to a datetime object\n",
        "GME.Time = pd.to_datetime(GME.Date, format = '%Y/%m/%d')"
      ]
    },
    {
      "cell_type": "code",
      "execution_count": 6,
      "metadata": {
        "id": "m4LZtc6HxfHG"
      },
      "outputs": [],
      "source": [
        "# Setting the index \n",
        "plot_GME = GME.set_index('Date')"
      ]
    },
    {
      "cell_type": "markdown",
      "metadata": {
        "id": "ut-xQRN9xfHG"
      },
      "source": [
        "# Plot of the GME stock price dataset"
      ]
    },
    {
      "cell_type": "code",
      "execution_count": 7,
      "metadata": {
        "colab": {
          "base_uri": "https://localhost:8080/",
          "height": 406
        },
        "id": "pIKlhq6kxfHH",
        "outputId": "90e8307d-fff7-4df1-feab-ac9e2ca0045c"
      },
      "outputs": [
        {
          "data": {
            "text/plain": "<AxesSubplot:xlabel='Date'>"
          },
          "execution_count": 7,
          "metadata": {},
          "output_type": "execute_result"
        },
        {
          "data": {
            "image/png": "[encoded data removed]",
            "image/svg+xml": "<?xml version=\"1.0\" encoding=\"utf-8\" standalone=\"no\"?>\n<!DOCTYPE svg PUBLIC \"-//W3C//DTD SVG 1.1//EN\"\n  \"http://www.w3.org/Graphics/SVG/1.1/DTD/svg11.dtd\">\n<!-- Created with matplotlib (https://matplotlib.org/) -->\n<svg height=\"370.91625pt\" version=\"1.1\" viewBox=\"0 0 933.2875 370.91625\" width=\"933.2875pt\" xmlns=\"http://www.w3.org/2000/svg\" xmlns:xlink=\"http://www.w3.org/1999/xlink\">\n <metadata>\n  <rdf:RDF xmlns:cc=\"http://creativecommons.org/ns#\" xmlns:dc=\"http://purl.org/dc/elements/1.1/\" xmlns:rdf=\"http://www.w3.org/1999/02/22-rdf-syntax-ns#\">\n   <cc:Work>\n    <dc:type rdf:resource=\"http://purl.org/dc/dcmitype/StillImage\"/>\n    <dc:date>2021-01-27T21:32:18.244608</dc:date>\n    <dc:format>image/svg+xml</dc:format>\n    <dc:creator>\n     <cc:Agent>\n      <dc:title>Matplotlib v3.3.3, https://matplotlib.org/</dc:title>\n     </cc:Agent>\n    </dc:creator>\n   </cc:Work>\n  </rdf:RDF>\n </metadata>\n <defs>\n  <style type=\"text/css\">*{stroke-linecap:butt;stroke-linejoin:round;}</style>\n </defs>\n <g id=\"figure_1\">\n  <g id=\"patch_1\">\n   <path d=\"M 0 370.91625 \nL 933.2875 370.91625 \nL 933.2875 0 \nL 0 0 \nz\n\" style=\"fill:none;\"/>\n  </g>\n  <g id=\"axes_1\">\n   <g id=\"patch_2\">\n    <path d=\"M 33.2875 333.36 \nL 926.0875 333.36 \nL 926.0875 7.2 \nL 33.2875 7.2 \nz\n\" style=\"fill:#ffffff;\"/>\n   </g>\n   <g id=\"matplotlib.axis_1\">\n    <g id=\"xtick_1\">\n     <g id=\"line2d_1\">\n      <defs>\n       <path d=\"M 0 0 \nL 0 3.5 \n\" id=\"m05bfb86986\" style=\"stroke:#000000;stroke-width:0.8;\"/>\n      </defs>\n      <g>\n       <use style=\"stroke:#000000;stroke-width:0.8;\" x=\"73.869318\" xlink:href=\"#m05bfb86986\" y=\"333.36\"/>\n      </g>\n     </g>\n     <g id=\"text_1\">\n      <!-- 2020-01-21 -->\n      <g transform=\"translate(44.811506 347.958438)scale(0.1 -0.1)\">\n       <defs>\n        <path d=\"M 19.1875 8.296875 \nL 53.609375 8.296875 \nL 53.609375 0 \nL 7.328125 0 \nL 7.328125 8.296875 \nQ 12.9375 14.109375 22.625 23.890625 \nQ 32.328125 33.6875 34.8125 36.53125 \nQ 39.546875 41.84375 41.421875 45.53125 \nQ 43.3125 49.21875 43.3125 52.78125 \nQ 43.3125 58.59375 39.234375 62.25 \nQ 35.15625 65.921875 28.609375 65.921875 \nQ 23.96875 65.921875 18.8125 64.3125 \nQ 13.671875 62.703125 7.8125 59.421875 \nL 7.8125 69.390625 \nQ 13.765625 71.78125 18.9375 73 \nQ 24.125 74.21875 28.421875 74.21875 \nQ 39.75 74.21875 46.484375 68.546875 \nQ 53.21875 62.890625 53.21875 53.421875 \nQ 53.21875 48.921875 51.53125 44.890625 \nQ 49.859375 40.875 45.40625 35.40625 \nQ 44.1875 33.984375 37.640625 27.21875 \nQ 31.109375 20.453125 19.1875 8.296875 \nz\n\" id=\"DejaVuSans-50\"/>\n        <path d=\"M 31.78125 66.40625 \nQ 24.171875 66.40625 20.328125 58.90625 \nQ 16.5 51.421875 16.5 36.375 \nQ 16.5 21.390625 20.328125 13.890625 \nQ 24.171875 6.390625 31.78125 6.390625 \nQ 39.453125 6.390625 43.28125 13.890625 \nQ 47.125 21.390625 47.125 36.375 \nQ 47.125 51.421875 43.28125 58.90625 \nQ 39.453125 66.40625 31.78125 66.40625 \nz\nM 31.78125 74.21875 \nQ 44.046875 74.21875 50.515625 64.515625 \nQ 56.984375 54.828125 56.984375 36.375 \nQ 56.984375 17.96875 50.515625 8.265625 \nQ 44.046875 -1.421875 31.78125 -1.421875 \nQ 19.53125 -1.421875 13.0625 8.265625 \nQ 6.59375 17.96875 6.59375 36.375 \nQ 6.59375 54.828125 13.0625 64.515625 \nQ 19.53125 74.21875 31.78125 74.21875 \nz\n\" id=\"DejaVuSans-48\"/>\n        <path d=\"M 4.890625 31.390625 \nL 31.203125 31.390625 \nL 31.203125 23.390625 \nL 4.890625 23.390625 \nz\n\" id=\"DejaVuSans-45\"/>\n        <path d=\"M 12.40625 8.296875 \nL 28.515625 8.296875 \nL 28.515625 63.921875 \nL 10.984375 60.40625 \nL 10.984375 69.390625 \nL 28.421875 72.90625 \nL 38.28125 72.90625 \nL 38.28125 8.296875 \nL 54.390625 8.296875 \nL 54.390625 0 \nL 12.40625 0 \nz\n\" id=\"DejaVuSans-49\"/>\n       </defs>\n       <use xlink:href=\"#DejaVuSans-50\"/>\n       <use x=\"63.623047\" xlink:href=\"#DejaVuSans-48\"/>\n       <use x=\"127.246094\" xlink:href=\"#DejaVuSans-50\"/>\n       <use x=\"190.869141\" xlink:href=\"#DejaVuSans-48\"/>\n       <use x=\"254.492188\" xlink:href=\"#DejaVuSans-45\"/>\n       <use x=\"290.576172\" xlink:href=\"#DejaVuSans-48\"/>\n       <use x=\"354.199219\" xlink:href=\"#DejaVuSans-49\"/>\n       <use x=\"417.822266\" xlink:href=\"#DejaVuSans-45\"/>\n       <use x=\"453.90625\" xlink:href=\"#DejaVuSans-50\"/>\n       <use x=\"517.529297\" xlink:href=\"#DejaVuSans-49\"/>\n      </g>\n     </g>\n    </g>\n    <g id=\"xtick_2\">\n     <g id=\"line2d_2\">\n      <g>\n       <use style=\"stroke:#000000;stroke-width:0.8;\" x=\"232.392045\" xlink:href=\"#m05bfb86986\" y=\"333.36\"/>\n      </g>\n     </g>\n     <g id=\"text_2\">\n      <!-- 2020-04-01 -->\n      <g transform=\"translate(203.334233 347.958438)scale(0.1 -0.1)\">\n       <defs>\n        <path d=\"M 37.796875 64.3125 \nL 12.890625 25.390625 \nL 37.796875 25.390625 \nz\nM 35.203125 72.90625 \nL 47.609375 72.90625 \nL 47.609375 25.390625 \nL 58.015625 25.390625 \nL 58.015625 17.1875 \nL 47.609375 17.1875 \nL 47.609375 0 \nL 37.796875 0 \nL 37.796875 17.1875 \nL 4.890625 17.1875 \nL 4.890625 26.703125 \nz\n\" id=\"DejaVuSans-52\"/>\n       </defs>\n       <use xlink:href=\"#DejaVuSans-50\"/>\n       <use x=\"63.623047\" xlink:href=\"#DejaVuSans-48\"/>\n       <use x=\"127.246094\" xlink:href=\"#DejaVuSans-50\"/>\n       <use x=\"190.869141\" xlink:href=\"#DejaVuSans-48\"/>\n       <use x=\"254.492188\" xlink:href=\"#DejaVuSans-45\"/>\n       <use x=\"290.576172\" xlink:href=\"#DejaVuSans-48\"/>\n       <use x=\"354.199219\" xlink:href=\"#DejaVuSans-52\"/>\n       <use x=\"417.822266\" xlink:href=\"#DejaVuSans-45\"/>\n       <use x=\"453.90625\" xlink:href=\"#DejaVuSans-48\"/>\n       <use x=\"517.529297\" xlink:href=\"#DejaVuSans-49\"/>\n      </g>\n     </g>\n    </g>\n    <g id=\"xtick_3\">\n     <g id=\"line2d_3\">\n      <g>\n       <use style=\"stroke:#000000;stroke-width:0.8;\" x=\"390.914773\" xlink:href=\"#m05bfb86986\" y=\"333.36\"/>\n      </g>\n     </g>\n     <g id=\"text_3\">\n      <!-- 2020-06-12 -->\n      <g transform=\"translate(361.85696 347.958438)scale(0.1 -0.1)\">\n       <defs>\n        <path d=\"M 33.015625 40.375 \nQ 26.375 40.375 22.484375 35.828125 \nQ 18.609375 31.296875 18.609375 23.390625 \nQ 18.609375 15.53125 22.484375 10.953125 \nQ 26.375 6.390625 33.015625 6.390625 \nQ 39.65625 6.390625 43.53125 10.953125 \nQ 47.40625 15.53125 47.40625 23.390625 \nQ 47.40625 31.296875 43.53125 35.828125 \nQ 39.65625 40.375 33.015625 40.375 \nz\nM 52.59375 71.296875 \nL 52.59375 62.3125 \nQ 48.875 64.0625 45.09375 64.984375 \nQ 41.3125 65.921875 37.59375 65.921875 \nQ 27.828125 65.921875 22.671875 59.328125 \nQ 17.53125 52.734375 16.796875 39.40625 \nQ 19.671875 43.65625 24.015625 45.921875 \nQ 28.375 48.1875 33.59375 48.1875 \nQ 44.578125 48.1875 50.953125 41.515625 \nQ 57.328125 34.859375 57.328125 23.390625 \nQ 57.328125 12.15625 50.6875 5.359375 \nQ 44.046875 -1.421875 33.015625 -1.421875 \nQ 20.359375 -1.421875 13.671875 8.265625 \nQ 6.984375 17.96875 6.984375 36.375 \nQ 6.984375 53.65625 15.1875 63.9375 \nQ 23.390625 74.21875 37.203125 74.21875 \nQ 40.921875 74.21875 44.703125 73.484375 \nQ 48.484375 72.75 52.59375 71.296875 \nz\n\" id=\"DejaVuSans-54\"/>\n       </defs>\n       <use xlink:href=\"#DejaVuSans-50\"/>\n       <use x=\"63.623047\" xlink:href=\"#DejaVuSans-48\"/>\n       <use x=\"127.246094\" xlink:href=\"#DejaVuSans-50\"/>\n       <use x=\"190.869141\" xlink:href=\"#DejaVuSans-48\"/>\n       <use x=\"254.492188\" xlink:href=\"#DejaVuSans-45\"/>\n       <use x=\"290.576172\" xlink:href=\"#DejaVuSans-48\"/>\n       <use x=\"354.199219\" xlink:href=\"#DejaVuSans-54\"/>\n       <use x=\"417.822266\" xlink:href=\"#DejaVuSans-45\"/>\n       <use x=\"453.90625\" xlink:href=\"#DejaVuSans-49\"/>\n       <use x=\"517.529297\" xlink:href=\"#DejaVuSans-50\"/>\n      </g>\n     </g>\n    </g>\n    <g id=\"xtick_4\">\n     <g id=\"line2d_4\">\n      <g>\n       <use style=\"stroke:#000000;stroke-width:0.8;\" x=\"549.4375\" xlink:href=\"#m05bfb86986\" y=\"333.36\"/>\n      </g>\n     </g>\n     <g id=\"text_4\">\n      <!-- 2020-08-24 -->\n      <g transform=\"translate(520.379688 347.958438)scale(0.1 -0.1)\">\n       <defs>\n        <path d=\"M 31.78125 34.625 \nQ 24.75 34.625 20.71875 30.859375 \nQ 16.703125 27.09375 16.703125 20.515625 \nQ 16.703125 13.921875 20.71875 10.15625 \nQ 24.75 6.390625 31.78125 6.390625 \nQ 38.8125 6.390625 42.859375 10.171875 \nQ 46.921875 13.96875 46.921875 20.515625 \nQ 46.921875 27.09375 42.890625 30.859375 \nQ 38.875 34.625 31.78125 34.625 \nz\nM 21.921875 38.8125 \nQ 15.578125 40.375 12.03125 44.71875 \nQ 8.5 49.078125 8.5 55.328125 \nQ 8.5 64.0625 14.71875 69.140625 \nQ 20.953125 74.21875 31.78125 74.21875 \nQ 42.671875 74.21875 48.875 69.140625 \nQ 55.078125 64.0625 55.078125 55.328125 \nQ 55.078125 49.078125 51.53125 44.71875 \nQ 48 40.375 41.703125 38.8125 \nQ 48.828125 37.15625 52.796875 32.3125 \nQ 56.78125 27.484375 56.78125 20.515625 \nQ 56.78125 9.90625 50.3125 4.234375 \nQ 43.84375 -1.421875 31.78125 -1.421875 \nQ 19.734375 -1.421875 13.25 4.234375 \nQ 6.78125 9.90625 6.78125 20.515625 \nQ 6.78125 27.484375 10.78125 32.3125 \nQ 14.796875 37.15625 21.921875 38.8125 \nz\nM 18.3125 54.390625 \nQ 18.3125 48.734375 21.84375 45.5625 \nQ 25.390625 42.390625 31.78125 42.390625 \nQ 38.140625 42.390625 41.71875 45.5625 \nQ 45.3125 48.734375 45.3125 54.390625 \nQ 45.3125 60.0625 41.71875 63.234375 \nQ 38.140625 66.40625 31.78125 66.40625 \nQ 25.390625 66.40625 21.84375 63.234375 \nQ 18.3125 60.0625 18.3125 54.390625 \nz\n\" id=\"DejaVuSans-56\"/>\n       </defs>\n       <use xlink:href=\"#DejaVuSans-50\"/>\n       <use x=\"63.623047\" xlink:href=\"#DejaVuSans-48\"/>\n       <use x=\"127.246094\" xlink:href=\"#DejaVuSans-50\"/>\n       <use x=\"190.869141\" xlink:href=\"#DejaVuSans-48\"/>\n       <use x=\"254.492188\" xlink:href=\"#DejaVuSans-45\"/>\n       <use x=\"290.576172\" xlink:href=\"#DejaVuSans-48\"/>\n       <use x=\"354.199219\" xlink:href=\"#DejaVuSans-56\"/>\n       <use x=\"417.822266\" xlink:href=\"#DejaVuSans-45\"/>\n       <use x=\"453.90625\" xlink:href=\"#DejaVuSans-50\"/>\n       <use x=\"517.529297\" xlink:href=\"#DejaVuSans-52\"/>\n      </g>\n     </g>\n    </g>\n    <g id=\"xtick_5\">\n     <g id=\"line2d_5\">\n      <g>\n       <use style=\"stroke:#000000;stroke-width:0.8;\" x=\"707.960227\" xlink:href=\"#m05bfb86986\" y=\"333.36\"/>\n      </g>\n     </g>\n     <g id=\"text_5\">\n      <!-- 2020-11-03 -->\n      <g transform=\"translate(678.902415 347.958438)scale(0.1 -0.1)\">\n       <defs>\n        <path d=\"M 40.578125 39.3125 \nQ 47.65625 37.796875 51.625 33 \nQ 55.609375 28.21875 55.609375 21.1875 \nQ 55.609375 10.40625 48.1875 4.484375 \nQ 40.765625 -1.421875 27.09375 -1.421875 \nQ 22.515625 -1.421875 17.65625 -0.515625 \nQ 12.796875 0.390625 7.625 2.203125 \nL 7.625 11.71875 \nQ 11.71875 9.328125 16.59375 8.109375 \nQ 21.484375 6.890625 26.8125 6.890625 \nQ 36.078125 6.890625 40.9375 10.546875 \nQ 45.796875 14.203125 45.796875 21.1875 \nQ 45.796875 27.640625 41.28125 31.265625 \nQ 36.765625 34.90625 28.71875 34.90625 \nL 20.21875 34.90625 \nL 20.21875 43.015625 \nL 29.109375 43.015625 \nQ 36.375 43.015625 40.234375 45.921875 \nQ 44.09375 48.828125 44.09375 54.296875 \nQ 44.09375 59.90625 40.109375 62.90625 \nQ 36.140625 65.921875 28.71875 65.921875 \nQ 24.65625 65.921875 20.015625 65.03125 \nQ 15.375 64.15625 9.8125 62.3125 \nL 9.8125 71.09375 \nQ 15.4375 72.65625 20.34375 73.4375 \nQ 25.25 74.21875 29.59375 74.21875 \nQ 40.828125 74.21875 47.359375 69.109375 \nQ 53.90625 64.015625 53.90625 55.328125 \nQ 53.90625 49.265625 50.4375 45.09375 \nQ 46.96875 40.921875 40.578125 39.3125 \nz\n\" id=\"DejaVuSans-51\"/>\n       </defs>\n       <use xlink:href=\"#DejaVuSans-50\"/>\n       <use x=\"63.623047\" xlink:href=\"#DejaVuSans-48\"/>\n       <use x=\"127.246094\" xlink:href=\"#DejaVuSans-50\"/>\n       <use x=\"190.869141\" xlink:href=\"#DejaVuSans-48\"/>\n       <use x=\"254.492188\" xlink:href=\"#DejaVuSans-45\"/>\n       <use x=\"290.576172\" xlink:href=\"#DejaVuSans-49\"/>\n       <use x=\"354.199219\" xlink:href=\"#DejaVuSans-49\"/>\n       <use x=\"417.822266\" xlink:href=\"#DejaVuSans-45\"/>\n       <use x=\"453.90625\" xlink:href=\"#DejaVuSans-48\"/>\n       <use x=\"517.529297\" xlink:href=\"#DejaVuSans-51\"/>\n      </g>\n     </g>\n    </g>\n    <g id=\"xtick_6\">\n     <g id=\"line2d_6\">\n      <g>\n       <use style=\"stroke:#000000;stroke-width:0.8;\" x=\"866.482955\" xlink:href=\"#m05bfb86986\" y=\"333.36\"/>\n      </g>\n     </g>\n     <g id=\"text_6\">\n      <!-- 2021-01-15 -->\n      <g transform=\"translate(837.425142 347.958438)scale(0.1 -0.1)\">\n       <defs>\n        <path d=\"M 10.796875 72.90625 \nL 49.515625 72.90625 \nL 49.515625 64.59375 \nL 19.828125 64.59375 \nL 19.828125 46.734375 \nQ 21.96875 47.46875 24.109375 47.828125 \nQ 26.265625 48.1875 28.421875 48.1875 \nQ 40.625 48.1875 47.75 41.5 \nQ 54.890625 34.8125 54.890625 23.390625 \nQ 54.890625 11.625 47.5625 5.09375 \nQ 40.234375 -1.421875 26.90625 -1.421875 \nQ 22.3125 -1.421875 17.546875 -0.640625 \nQ 12.796875 0.140625 7.71875 1.703125 \nL 7.71875 11.625 \nQ 12.109375 9.234375 16.796875 8.0625 \nQ 21.484375 6.890625 26.703125 6.890625 \nQ 35.15625 6.890625 40.078125 11.328125 \nQ 45.015625 15.765625 45.015625 23.390625 \nQ 45.015625 31 40.078125 35.4375 \nQ 35.15625 39.890625 26.703125 39.890625 \nQ 22.75 39.890625 18.8125 39.015625 \nQ 14.890625 38.140625 10.796875 36.28125 \nz\n\" id=\"DejaVuSans-53\"/>\n       </defs>\n       <use xlink:href=\"#DejaVuSans-50\"/>\n       <use x=\"63.623047\" xlink:href=\"#DejaVuSans-48\"/>\n       <use x=\"127.246094\" xlink:href=\"#DejaVuSans-50\"/>\n       <use x=\"190.869141\" xlink:href=\"#DejaVuSans-49\"/>\n       <use x=\"254.492188\" xlink:href=\"#DejaVuSans-45\"/>\n       <use x=\"290.576172\" xlink:href=\"#DejaVuSans-48\"/>\n       <use x=\"354.199219\" xlink:href=\"#DejaVuSans-49\"/>\n       <use x=\"417.822266\" xlink:href=\"#DejaVuSans-45\"/>\n       <use x=\"453.90625\" xlink:href=\"#DejaVuSans-49\"/>\n       <use x=\"517.529297\" xlink:href=\"#DejaVuSans-53\"/>\n      </g>\n     </g>\n    </g>\n    <g id=\"text_7\">\n     <!-- Date -->\n     <g transform=\"translate(467.736719 361.636562)scale(0.1 -0.1)\">\n      <defs>\n       <path d=\"M 19.671875 64.796875 \nL 19.671875 8.109375 \nL 31.59375 8.109375 \nQ 46.6875 8.109375 53.6875 14.9375 \nQ 60.6875 21.78125 60.6875 36.53125 \nQ 60.6875 51.171875 53.6875 57.984375 \nQ 46.6875 64.796875 31.59375 64.796875 \nz\nM 9.8125 72.90625 \nL 30.078125 72.90625 \nQ 51.265625 72.90625 61.171875 64.09375 \nQ 71.09375 55.28125 71.09375 36.53125 \nQ 71.09375 17.671875 61.125 8.828125 \nQ 51.171875 0 30.078125 0 \nL 9.8125 0 \nz\n\" id=\"DejaVuSans-68\"/>\n       <path d=\"M 34.28125 27.484375 \nQ 23.390625 27.484375 19.1875 25 \nQ 14.984375 22.515625 14.984375 16.5 \nQ 14.984375 11.71875 18.140625 8.90625 \nQ 21.296875 6.109375 26.703125 6.109375 \nQ 34.1875 6.109375 38.703125 11.40625 \nQ 43.21875 16.703125 43.21875 25.484375 \nL 43.21875 27.484375 \nz\nM 52.203125 31.203125 \nL 52.203125 0 \nL 43.21875 0 \nL 43.21875 8.296875 \nQ 40.140625 3.328125 35.546875 0.953125 \nQ 30.953125 -1.421875 24.3125 -1.421875 \nQ 15.921875 -1.421875 10.953125 3.296875 \nQ 6 8.015625 6 15.921875 \nQ 6 25.140625 12.171875 29.828125 \nQ 18.359375 34.515625 30.609375 34.515625 \nL 43.21875 34.515625 \nL 43.21875 35.40625 \nQ 43.21875 41.609375 39.140625 45 \nQ 35.0625 48.390625 27.6875 48.390625 \nQ 23 48.390625 18.546875 47.265625 \nQ 14.109375 46.140625 10.015625 43.890625 \nL 10.015625 52.203125 \nQ 14.9375 54.109375 19.578125 55.046875 \nQ 24.21875 56 28.609375 56 \nQ 40.484375 56 46.34375 49.84375 \nQ 52.203125 43.703125 52.203125 31.203125 \nz\n\" id=\"DejaVuSans-97\"/>\n       <path d=\"M 18.3125 70.21875 \nL 18.3125 54.6875 \nL 36.8125 54.6875 \nL 36.8125 47.703125 \nL 18.3125 47.703125 \nL 18.3125 18.015625 \nQ 18.3125 11.328125 20.140625 9.421875 \nQ 21.96875 7.515625 27.59375 7.515625 \nL 36.8125 7.515625 \nL 36.8125 0 \nL 27.59375 0 \nQ 17.1875 0 13.234375 3.875 \nQ 9.28125 7.765625 9.28125 18.015625 \nL 9.28125 47.703125 \nL 2.6875 47.703125 \nL 2.6875 54.6875 \nL 9.28125 54.6875 \nL 9.28125 70.21875 \nz\n\" id=\"DejaVuSans-116\"/>\n       <path d=\"M 56.203125 29.59375 \nL 56.203125 25.203125 \nL 14.890625 25.203125 \nQ 15.484375 15.921875 20.484375 11.0625 \nQ 25.484375 6.203125 34.421875 6.203125 \nQ 39.59375 6.203125 44.453125 7.46875 \nQ 49.3125 8.734375 54.109375 11.28125 \nL 54.109375 2.78125 \nQ 49.265625 0.734375 44.1875 -0.34375 \nQ 39.109375 -1.421875 33.890625 -1.421875 \nQ 20.796875 -1.421875 13.15625 6.1875 \nQ 5.515625 13.8125 5.515625 26.8125 \nQ 5.515625 40.234375 12.765625 48.109375 \nQ 20.015625 56 32.328125 56 \nQ 43.359375 56 49.78125 48.890625 \nQ 56.203125 41.796875 56.203125 29.59375 \nz\nM 47.21875 32.234375 \nQ 47.125 39.59375 43.09375 43.984375 \nQ 39.0625 48.390625 32.421875 48.390625 \nQ 24.90625 48.390625 20.390625 44.140625 \nQ 15.875 39.890625 15.1875 32.171875 \nz\n\" id=\"DejaVuSans-101\"/>\n      </defs>\n      <use xlink:href=\"#DejaVuSans-68\"/>\n      <use x=\"77.001953\" xlink:href=\"#DejaVuSans-97\"/>\n      <use x=\"138.28125\" xlink:href=\"#DejaVuSans-116\"/>\n      <use x=\"177.490234\" xlink:href=\"#DejaVuSans-101\"/>\n     </g>\n    </g>\n   </g>\n   <g id=\"matplotlib.axis_2\">\n    <g id=\"ytick_1\">\n     <g id=\"line2d_7\">\n      <defs>\n       <path d=\"M 0 0 \nL -3.5 0 \n\" id=\"m8799fbff2b\" style=\"stroke:#000000;stroke-width:0.8;\"/>\n      </defs>\n      <g>\n       <use style=\"stroke:#000000;stroke-width:0.8;\" x=\"33.2875\" xlink:href=\"#m8799fbff2b\" y=\"324.253139\"/>\n      </g>\n     </g>\n     <g id=\"text_8\">\n      <!-- 0 -->\n      <g transform=\"translate(19.925 328.052358)scale(0.1 -0.1)\">\n       <use xlink:href=\"#DejaVuSans-48\"/>\n      </g>\n     </g>\n    </g>\n    <g id=\"ytick_2\">\n     <g id=\"line2d_8\">\n      <g>\n       <use style=\"stroke:#000000;stroke-width:0.8;\" x=\"33.2875\" xlink:href=\"#m8799fbff2b\" y=\"283.406039\"/>\n      </g>\n     </g>\n     <g id=\"text_9\">\n      <!-- 20 -->\n      <g transform=\"translate(13.5625 287.205258)scale(0.1 -0.1)\">\n       <use xlink:href=\"#DejaVuSans-50\"/>\n       <use x=\"63.623047\" xlink:href=\"#DejaVuSans-48\"/>\n      </g>\n     </g>\n    </g>\n    <g id=\"ytick_3\">\n     <g id=\"line2d_9\">\n      <g>\n       <use style=\"stroke:#000000;stroke-width:0.8;\" x=\"33.2875\" xlink:href=\"#m8799fbff2b\" y=\"242.558939\"/>\n      </g>\n     </g>\n     <g id=\"text_10\">\n      <!-- 40 -->\n      <g transform=\"translate(13.5625 246.358158)scale(0.1 -0.1)\">\n       <use xlink:href=\"#DejaVuSans-52\"/>\n       <use x=\"63.623047\" xlink:href=\"#DejaVuSans-48\"/>\n      </g>\n     </g>\n    </g>\n    <g id=\"ytick_4\">\n     <g id=\"line2d_10\">\n      <g>\n       <use style=\"stroke:#000000;stroke-width:0.8;\" x=\"33.2875\" xlink:href=\"#m8799fbff2b\" y=\"201.711839\"/>\n      </g>\n     </g>\n     <g id=\"text_11\">\n      <!-- 60 -->\n      <g transform=\"translate(13.5625 205.511058)scale(0.1 -0.1)\">\n       <use xlink:href=\"#DejaVuSans-54\"/>\n       <use x=\"63.623047\" xlink:href=\"#DejaVuSans-48\"/>\n      </g>\n     </g>\n    </g>\n    <g id=\"ytick_5\">\n     <g id=\"line2d_11\">\n      <g>\n       <use style=\"stroke:#000000;stroke-width:0.8;\" x=\"33.2875\" xlink:href=\"#m8799fbff2b\" y=\"160.864739\"/>\n      </g>\n     </g>\n     <g id=\"text_12\">\n      <!-- 80 -->\n      <g transform=\"translate(13.5625 164.663958)scale(0.1 -0.1)\">\n       <use xlink:href=\"#DejaVuSans-56\"/>\n       <use x=\"63.623047\" xlink:href=\"#DejaVuSans-48\"/>\n      </g>\n     </g>\n    </g>\n    <g id=\"ytick_6\">\n     <g id=\"line2d_12\">\n      <g>\n       <use style=\"stroke:#000000;stroke-width:0.8;\" x=\"33.2875\" xlink:href=\"#m8799fbff2b\" y=\"120.017639\"/>\n      </g>\n     </g>\n     <g id=\"text_13\">\n      <!-- 100 -->\n      <g transform=\"translate(7.2 123.816858)scale(0.1 -0.1)\">\n       <use xlink:href=\"#DejaVuSans-49\"/>\n       <use x=\"63.623047\" xlink:href=\"#DejaVuSans-48\"/>\n       <use x=\"127.246094\" xlink:href=\"#DejaVuSans-48\"/>\n      </g>\n     </g>\n    </g>\n    <g id=\"ytick_7\">\n     <g id=\"line2d_13\">\n      <g>\n       <use style=\"stroke:#000000;stroke-width:0.8;\" x=\"33.2875\" xlink:href=\"#m8799fbff2b\" y=\"79.170539\"/>\n      </g>\n     </g>\n     <g id=\"text_14\">\n      <!-- 120 -->\n      <g transform=\"translate(7.2 82.969758)scale(0.1 -0.1)\">\n       <use xlink:href=\"#DejaVuSans-49\"/>\n       <use x=\"63.623047\" xlink:href=\"#DejaVuSans-50\"/>\n       <use x=\"127.246094\" xlink:href=\"#DejaVuSans-48\"/>\n      </g>\n     </g>\n    </g>\n    <g id=\"ytick_8\">\n     <g id=\"line2d_14\">\n      <g>\n       <use style=\"stroke:#000000;stroke-width:0.8;\" x=\"33.2875\" xlink:href=\"#m8799fbff2b\" y=\"38.323439\"/>\n      </g>\n     </g>\n     <g id=\"text_15\">\n      <!-- 140 -->\n      <g transform=\"translate(7.2 42.122658)scale(0.1 -0.1)\">\n       <use xlink:href=\"#DejaVuSans-49\"/>\n       <use x=\"63.623047\" xlink:href=\"#DejaVuSans-52\"/>\n       <use x=\"127.246094\" xlink:href=\"#DejaVuSans-48\"/>\n      </g>\n     </g>\n    </g>\n   </g>\n   <g id=\"line2d_15\">\n    <path clip-path=\"url(#p6e1e87ac34)\" d=\"M 73.869318 314.87873 \nL 77.039773 314.940001 \nL 80.210227 314.817459 \nL 83.380682 315.430166 \nL 89.721591 315.654825 \nL 92.892045 315.818213 \nL 96.0625 316.226684 \nL 99.232955 316.410496 \nL 108.744318 315.716096 \nL 111.914773 315.79779 \nL 115.085227 316.471767 \nL 124.596591 315.695672 \nL 130.9375 316.042872 \nL 140.448864 315.79779 \nL 143.619318 316.002025 \nL 146.789773 316.696426 \nL 153.130682 317.329556 \nL 159.471591 316.900661 \nL 162.642045 316.43092 \nL 165.8125 316.839391 \nL 172.153409 316.165414 \nL 175.323864 316.247108 \nL 178.494318 316.696426 \nL 181.664773 315.613978 \nL 184.835227 315.79779 \nL 188.005682 316.124567 \nL 191.176136 314.87873 \nL 194.346591 315.328048 \nL 197.517045 315.613978 \nL 200.6875 316.553461 \nL 203.857955 315.695672 \nL 207.028409 316.573885 \nL 210.198864 316.471767 \nL 213.369318 315.756943 \nL 216.539773 315.736519 \nL 219.710227 315.246354 \nL 222.880682 315.634401 \nL 226.051136 316.798544 \nL 229.221591 317.104897 \nL 232.392045 317.615486 \nL 235.5625 318.432428 \nL 238.732955 318.534545 \nL 241.903409 317.942263 \nL 248.244318 317.288709 \nL 251.414773 316.308379 \nL 254.585227 314.572377 \nL 257.755682 312.101127 \nL 260.926136 313.489929 \nL 264.096591 313.980094 \nL 267.267045 314.286447 \nL 270.4375 312.795528 \nL 273.607955 314.490683 \nL 276.778409 314.266024 \nL 279.948864 314.654071 \nL 283.119318 314.511106 \nL 286.289773 312.366633 \nL 289.460227 312.734257 \nL 292.630682 311.917315 \nL 295.801136 312.550445 \nL 298.971591 311.896892 \nL 302.142045 313.061034 \nL 305.3125 313.244846 \nL 308.482955 314.184329 \nL 311.653409 314.306871 \nL 314.823864 314.082212 \nL 321.164773 314.980848 \nL 324.335227 315.654825 \nL 327.505682 315.818213 \nL 330.676136 315.634401 \nL 333.846591 314.899154 \nL 337.017045 315.185083 \nL 343.357955 315.185083 \nL 346.528409 315.716096 \nL 352.869318 314.674495 \nL 356.039773 315.409742 \nL 359.210227 315.961178 \nL 365.551136 315.716096 \nL 368.721591 315.185083 \nL 371.892045 315.123813 \nL 375.0625 315.79779 \nL 378.232955 314.020941 \nL 381.403409 314.123059 \nL 384.573864 313.8984 \nL 387.744318 315.328048 \nL 390.914773 314.613224 \nL 397.255682 314.776612 \nL 400.426136 314.53153 \nL 403.596591 314.143482 \nL 406.767045 314.286447 \nL 413.107955 314.388565 \nL 416.278409 315.246354 \nL 419.448864 315.144236 \nL 422.619318 315.368895 \nL 425.789773 315.307625 \nL 428.960227 315.389319 \nL 432.130682 315.185083 \nL 435.301136 315.491437 \nL 438.471591 315.593554 \nL 441.642045 315.899908 \nL 444.8125 315.552707 \nL 447.982955 315.654825 \nL 451.153409 315.389319 \nL 454.323864 315.552707 \nL 457.494318 315.920331 \nL 460.664773 315.695672 \nL 463.835227 315.736519 \nL 467.005682 316.165414 \nL 470.176136 316.390073 \nL 473.346591 316.063296 \nL 476.517045 315.85906 \nL 479.6875 315.85906 \nL 482.857955 316.022449 \nL 489.198864 316.206261 \nL 492.369318 315.961178 \nL 495.539773 315.879484 \nL 498.710227 316.063296 \nL 501.880682 315.777366 \nL 505.051136 315.205507 \nL 508.221591 314.797036 \nL 511.392045 315.205507 \nL 514.5625 315.756943 \nL 517.732955 315.409742 \nL 520.903409 315.368895 \nL 527.244318 314.776612 \nL 530.414773 314.551953 \nL 533.585227 314.797036 \nL 536.755682 314.429412 \nL 543.096591 314.837883 \nL 546.267045 313.980094 \nL 549.4375 314.306871 \nL 558.948864 313.530776 \nL 562.119318 313.244846 \nL 565.289773 310.610208 \nL 568.460227 308.629124 \nL 574.801136 308.281923 \nL 577.971591 308.629124 \nL 581.142045 308.527006 \nL 584.3125 309.24183 \nL 587.482955 311.529268 \nL 590.653409 311.815198 \nL 593.823864 310.140466 \nL 596.994318 309.772842 \nL 600.164773 306.525498 \nL 603.335227 305.463473 \nL 606.505682 304.912038 \nL 609.676136 306.382533 \nL 612.846591 302.685871 \nL 616.017045 303.747895 \nL 619.1875 305.586015 \nL 622.357955 303.788742 \nL 625.528409 303.645777 \nL 628.698864 303.114765 \nL 631.869318 303.421118 \nL 638.210227 305.075426 \nL 641.380682 304.932461 \nL 644.551136 305.606438 \nL 647.721591 305.136697 \nL 650.892045 296.70177 \nL 654.0625 299.704032 \nL 657.232955 300.15335 \nL 660.403409 299.989962 \nL 663.573864 299.234291 \nL 666.744318 296.00737 \nL 669.914773 297.069394 \nL 673.085227 295.843981 \nL 676.255682 295.946099 \nL 679.426136 295.455934 \nL 682.596591 293.801626 \nL 685.767045 293.617814 \nL 688.9375 296.783465 \nL 692.107955 298.335654 \nL 695.278409 300.112503 \nL 698.448864 300.296315 \nL 701.619318 302.869683 \nL 704.789773 302.297823 \nL 707.960227 300.623092 \nL 711.130682 301.971046 \nL 714.301136 300.868175 \nL 717.471591 300.030809 \nL 723.8125 301.582999 \nL 726.982955 300.255468 \nL 730.153409 301.521728 \nL 733.323864 301.766811 \nL 736.494318 299.622338 \nL 739.664773 300.500551 \nL 742.835227 300.623092 \nL 746.005682 298.805396 \nL 749.176136 298.294807 \nL 752.346591 295.864405 \nL 755.517045 296.334147 \nL 758.6875 294.128403 \nL 761.857955 291.412071 \nL 765.028409 290.431743 \nL 768.198864 291.98393 \nL 771.369318 290.390894 \nL 774.539773 291.330375 \nL 777.710227 289.73734 \nL 780.880682 290.860635 \nL 784.051136 289.655644 \nL 787.221591 296.35457 \nL 790.392045 295.415087 \nL 793.5625 297.069394 \nL 796.732955 298.274384 \nL 799.903409 295.966523 \nL 803.073864 295.966523 \nL 806.244318 293.965015 \nL 809.414773 292.331131 \nL 812.585227 292.535366 \nL 815.755682 284.508913 \nL 818.926136 282.241897 \nL 822.096591 283.099686 \nL 825.267045 281.384108 \nL 828.4375 284.672302 \nL 831.607955 284.917382 \nL 834.778409 285.775171 \nL 837.948864 289.022516 \nL 841.119318 288.777431 \nL 844.289773 286.7555 \nL 847.460227 287.327361 \nL 850.630682 288.123877 \nL 853.801136 283.528579 \nL 856.971591 283.508155 \nL 860.142045 260.123192 \nL 863.3125 242.742751 \nL 866.482955 251.749537 \nL 869.653409 243.866045 \nL 872.823864 244.356214 \nL 875.994318 236.370606 \nL 879.164773 191.479637 \nL 882.335227 167.420697 \nL 885.505682 22.025455 \nL 885.505682 22.025455 \n\" style=\"fill:none;stroke:#1f77b4;stroke-linecap:square;stroke-width:1.5;\"/>\n   </g>\n   <g id=\"patch_3\">\n    <path d=\"M 33.2875 333.36 \nL 33.2875 7.2 \n\" style=\"fill:none;stroke:#000000;stroke-linecap:square;stroke-linejoin:miter;stroke-width:0.8;\"/>\n   </g>\n   <g id=\"patch_4\">\n    <path d=\"M 926.0875 333.36 \nL 926.0875 7.2 \n\" style=\"fill:none;stroke:#000000;stroke-linecap:square;stroke-linejoin:miter;stroke-width:0.8;\"/>\n   </g>\n   <g id=\"patch_5\">\n    <path d=\"M 33.2875 333.36 \nL 926.0875 333.36 \n\" style=\"fill:none;stroke:#000000;stroke-linecap:square;stroke-linejoin:miter;stroke-width:0.8;\"/>\n   </g>\n   <g id=\"patch_6\">\n    <path d=\"M 33.2875 7.2 \nL 926.0875 7.2 \n\" style=\"fill:none;stroke:#000000;stroke-linecap:square;stroke-linejoin:miter;stroke-width:0.8;\"/>\n   </g>\n  </g>\n </g>\n <defs>\n  <clipPath id=\"p6e1e87ac34\">\n   <rect height=\"326.16\" width=\"892.8\" x=\"33.2875\" y=\"7.2\"/>\n  </clipPath>\n </defs>\n</svg>\n",
            "text/plain": "<Figure size 1152x432 with 1 Axes>"
          },
          "metadata": {
            "needs_background": "light",
            "transient": {}
          },
          "output_type": "display_data"
        }
      ],
      "source": [
        "plot_GME['Close'].plot(figsize=(16,6))"
      ]
    },
    {
      "cell_type": "code",
      "execution_count": 8,
      "metadata": {
        "id": "i-emcg1NxfHH"
      },
      "outputs": [],
      "source": [
        "new_GME = GME"
      ]
    },
    {
      "cell_type": "code",
      "execution_count": 9,
      "metadata": {
        "colab": {
          "base_uri": "https://localhost:8080/",
          "height": 199
        },
        "id": "G5uDTPrwxfHH",
        "outputId": "f110f0ce-7e65-4d27-d5e7-21bc2f4d0dbf"
      },
      "outputs": [
        {
          "data": {
            "text/html": "<div>\n<style scoped>\n    .dataframe tbody tr th:only-of-type {\n        vertical-align: middle;\n    }\n\n    .dataframe tbody tr th {\n        vertical-align: top;\n    }\n\n    .dataframe thead th {\n        text-align: right;\n    }\n</style>\n<table border=\"1\" class=\"dataframe\">\n  <thead>\n    <tr style=\"text-align: right;\">\n      <th></th>\n      <th>Date</th>\n      <th>Close</th>\n    </tr>\n  </thead>\n  <tbody>\n    <tr>\n      <th>0</th>\n      <td>2020-01-21</td>\n      <td>4.59</td>\n    </tr>\n    <tr>\n      <th>1</th>\n      <td>2020-01-22</td>\n      <td>4.56</td>\n    </tr>\n    <tr>\n      <th>2</th>\n      <td>2020-01-23</td>\n      <td>4.62</td>\n    </tr>\n    <tr>\n      <th>3</th>\n      <td>2020-01-24</td>\n      <td>4.32</td>\n    </tr>\n    <tr>\n      <th>4</th>\n      <td>2020-01-27</td>\n      <td>4.28</td>\n    </tr>\n  </tbody>\n</table>\n</div>",
            "text/plain": "         Date  Close\n0  2020-01-21   4.59\n1  2020-01-22   4.56\n2  2020-01-23   4.62\n3  2020-01-24   4.32\n4  2020-01-27   4.28"
          },
          "execution_count": 9,
          "metadata": {},
          "output_type": "execute_result"
        }
      ],
      "source": [
        "new_GME.head()"
      ]
    },
    {
      "cell_type": "code",
      "execution_count": 10,
      "metadata": {
        "colab": {
          "base_uri": "https://localhost:8080/",
          "height": 199
        },
        "id": "TekT1A-LxfHI",
        "outputId": "b4b34ad1-7dff-478d-a0c7-b924ae45816c"
      },
      "outputs": [
        {
          "data": {
            "text/html": "<div>\n<style scoped>\n    .dataframe tbody tr th:only-of-type {\n        vertical-align: middle;\n    }\n\n    .dataframe tbody tr th {\n        vertical-align: top;\n    }\n\n    .dataframe thead th {\n        text-align: right;\n    }\n</style>\n<table border=\"1\" class=\"dataframe\">\n  <thead>\n    <tr style=\"text-align: right;\">\n      <th></th>\n      <th>Date</th>\n      <th>Close</th>\n    </tr>\n  </thead>\n  <tbody>\n    <tr>\n      <th>252</th>\n      <td>2021-01-20</td>\n      <td>39.119999</td>\n    </tr>\n    <tr>\n      <th>253</th>\n      <td>2021-01-21</td>\n      <td>43.029999</td>\n    </tr>\n    <tr>\n      <th>254</th>\n      <td>2021-01-22</td>\n      <td>65.010002</td>\n    </tr>\n    <tr>\n      <th>255</th>\n      <td>2021-01-25</td>\n      <td>76.790001</td>\n    </tr>\n    <tr>\n      <th>256</th>\n      <td>2021-01-26</td>\n      <td>147.979996</td>\n    </tr>\n  </tbody>\n</table>\n</div>",
            "text/plain": "           Date       Close\n252  2021-01-20   39.119999\n253  2021-01-21   43.029999\n254  2021-01-22   65.010002\n255  2021-01-25   76.790001\n256  2021-01-26  147.979996"
          },
          "execution_count": 10,
          "metadata": {},
          "output_type": "execute_result"
        }
      ],
      "source": [
        "new_GME.tail()"
      ]
    },
    {
      "cell_type": "code",
      "execution_count": 11,
      "metadata": {
        "colab": {
          "base_uri": "https://localhost:8080/",
          "height": 410
        },
        "id": "r16dlt4LrzJh",
        "outputId": "520518ea-c3f7-4d34-f78a-96c96347624b"
      },
      "outputs": [
        {
          "data": {
            "text/html": "<div>\n<style scoped>\n    .dataframe tbody tr th:only-of-type {\n        vertical-align: middle;\n    }\n\n    .dataframe tbody tr th {\n        vertical-align: top;\n    }\n\n    .dataframe thead th {\n        text-align: right;\n    }\n</style>\n<table border=\"1\" class=\"dataframe\">\n  <thead>\n    <tr style=\"text-align: right;\">\n      <th></th>\n      <th>Date</th>\n      <th>Close</th>\n    </tr>\n  </thead>\n  <tbody>\n    <tr>\n      <th>0</th>\n      <td>2020-01-21</td>\n      <td>4.590000</td>\n    </tr>\n    <tr>\n      <th>1</th>\n      <td>2020-01-22</td>\n      <td>4.560000</td>\n    </tr>\n    <tr>\n      <th>2</th>\n      <td>2020-01-23</td>\n      <td>4.620000</td>\n    </tr>\n    <tr>\n      <th>3</th>\n      <td>2020-01-24</td>\n      <td>4.320000</td>\n    </tr>\n    <tr>\n      <th>4</th>\n      <td>2020-01-27</td>\n      <td>4.280000</td>\n    </tr>\n    <tr>\n      <th>...</th>\n      <td>...</td>\n      <td>...</td>\n    </tr>\n    <tr>\n      <th>252</th>\n      <td>2021-01-20</td>\n      <td>39.119999</td>\n    </tr>\n    <tr>\n      <th>253</th>\n      <td>2021-01-21</td>\n      <td>43.029999</td>\n    </tr>\n    <tr>\n      <th>254</th>\n      <td>2021-01-22</td>\n      <td>65.010002</td>\n    </tr>\n    <tr>\n      <th>255</th>\n      <td>2021-01-25</td>\n      <td>76.790001</td>\n    </tr>\n    <tr>\n      <th>256</th>\n      <td>2021-01-26</td>\n      <td>147.979996</td>\n    </tr>\n  </tbody>\n</table>\n<p>257 rows × 2 columns</p>\n</div>",
            "text/plain": "           Date       Close\n0    2020-01-21    4.590000\n1    2020-01-22    4.560000\n2    2020-01-23    4.620000\n3    2020-01-24    4.320000\n4    2020-01-27    4.280000\n..          ...         ...\n252  2021-01-20   39.119999\n253  2021-01-21   43.029999\n254  2021-01-22   65.010002\n255  2021-01-25   76.790001\n256  2021-01-26  147.979996\n\n[257 rows x 2 columns]"
          },
          "execution_count": 11,
          "metadata": {},
          "output_type": "execute_result"
        }
      ],
      "source": [
        "new_GME.dropna()"
      ]
    },
    {
      "cell_type": "markdown",
      "metadata": {
        "id": "ukS7-Wg-xfHI"
      },
      "source": [
        "## Min-max Scaling and Train/Test Split"
      ]
    },
    {
      "cell_type": "code",
      "execution_count": 12,
      "metadata": {
        "colab": {
          "base_uri": "https://localhost:8080/"
        },
        "id": "of1e-UskxfHI",
        "outputId": "a56da8fc-4a97-4535-9918-c8a6ecd266cc"
      },
      "outputs": [
        {
          "name": "stdout",
          "output_type": "stream",
          "text": [
            "Close    0\n",
            "dtype: int64\n"
          ]
        }
      ],
      "source": [
        "new_GME = new_GME.drop('Date', axis = 1)\n",
        "new_GME = new_GME.reset_index(drop = True)\n",
        "new_GME.head()\n",
        "print(new_GME.isnull().sum())\n",
        "new_GME.dropna()\n",
        "T = new_GME.values\n",
        "T = T.astype('float32')\n",
        "T = np.reshape(T, (-1, 1))"
      ]
    },
    {
      "cell_type": "code",
      "execution_count": 13,
      "metadata": {
        "id": "yNidx-yDwCs0"
      },
      "outputs": [],
      "source": [
        "T = T[~np.isnan(T)]\n",
        "T = np.reshape(T, (-1, 1))"
      ]
    },
    {
      "cell_type": "code",
      "execution_count": 14,
      "metadata": {
        "id": "bciEerFuxfHI"
      },
      "outputs": [],
      "source": [
        "from sklearn.preprocessing import MinMaxScaler\n",
        "\n",
        "scaler = MinMaxScaler(feature_range = (0, 1))\n",
        "T = scaler.fit_transform(T)\n",
        "\n",
        "# 80-20 split\n",
        "train_size = int(len(T) * 0.80)\n",
        "test_size = int(len(T) - train_size)\n",
        "train, test = T[0:train_size,:], T[train_size:len(T),:]"
      ]
    },
    {
      "cell_type": "code",
      "execution_count": 15,
      "metadata": {
        "id": "7ZlW9OFBxfHI"
      },
      "outputs": [],
      "source": [
        "# Method for create features from the time series data\n",
        "def create_features(data, window_size):\n",
        "    X, Y = [], []\n",
        "    for i in range(len(data) - window_size - 1):\n",
        "        window = data[i:(i + window_size), 0]\n",
        "        X.append(window)\n",
        "        Y.append(data[i + window_size, 0])\n",
        "    return np.array(X), np.array(Y)\n",
        "\n",
        "# Roughly one month of trading assuming 5 trading days per week\n",
        "window_size = 20\n",
        "X_train, Y_train = create_features(train, window_size)\n",
        "\n",
        "X_test, Y_test = create_features(test, window_size)\n",
        "\n",
        "# Reshape to the format of [samples, time steps, features]\n",
        "X_train = np.reshape(X_train, (X_train.shape[0], 1, X_train.shape[1]))\n",
        "\n",
        "X_test = np.reshape(X_test, (X_test.shape[0], 1, X_test.shape[1]))"
      ]
    },
    {
      "cell_type": "code",
      "execution_count": 16,
      "metadata": {
        "colab": {
          "base_uri": "https://localhost:8080/"
        },
        "id": "MKVr9SeyxfHI",
        "outputId": "b4d3ce8d-4e35-4b53-83b5-2f9bd5695dbb"
      },
      "outputs": [
        {
          "name": "stdout",
          "output_type": "stream",
          "text": [
            "False\n"
          ]
        }
      ],
      "source": [
        "# Checking to make sure that none of our training set is leaking into the testing set\n",
        "T_shape = T.shape\n",
        "train_shape = train.shape\n",
        "test_shape = test.shape\n",
        "\n",
        "# Make sure that the number of rows in the dataset = train rows + test rows\n",
        "def isLeak(T_shape, train_shape, test_shape):\n",
        "    return not(T_shape[0] == (train_shape[0] + test_shape[0]))\n",
        "\n",
        "print(isLeak(T_shape, train_shape, test_shape))"
      ]
    },
    {
      "cell_type": "code",
      "execution_count": 17,
      "metadata": {
        "id": "PmXDe3bRxfHI"
      },
      "outputs": [],
      "source": [
        "# Model imports\n",
        "import tensorflow as tf\n",
        "from keras.models import Sequential\n",
        "from keras.layers import Dense\n",
        "from keras.layers import LSTM\n",
        "from keras.layers import Dropout\n",
        "from keras.callbacks import ModelCheckpoint"
      ]
    },
    {
      "cell_type": "code",
      "execution_count": 18,
      "metadata": {
        "id": "lLdSLbR4xfHI"
      },
      "outputs": [],
      "source": [
        "# Setting seed for reproducibility \n",
        "tf.random.set_seed(11)\n",
        "np.random.seed(11)"
      ]
    },
    {
      "cell_type": "markdown",
      "metadata": {
        "id": "VdWJnbFmxfHI"
      },
      "source": [
        "# Building the  LSTM RNN Model\n",
        "Below, we build a LSTM model that consists of one LSTM layer with a density of 50 neurons and a RELU activation function, as well as a Dropout regularization layer. We add a model checkpoint that is looking to minimize the validation set's loss. We save each model that consists of a lower validation loss compared to any model that came before it."
      ]
    },
    {
      "cell_type": "code",
      "execution_count": 19,
      "metadata": {
        "colab": {
          "base_uri": "https://localhost:8080/"
        },
        "id": "ugF1FSzrxfHI",
        "outputId": "6b2195d4-21ed-4a5e-8857-c86f88df570c"
      },
      "outputs": [
        {
          "name": "stdout",
          "output_type": "stream",
          "text": [
            "WARNING:tensorflow:Layer lstm will not use cuDNN kernels since it doesn't meet the criteria. It will use a generic GPU kernel as fallback when running on GPU.\n"
          ]
        }
      ],
      "source": [
        "# Building model\n",
        "model = Sequential()\n",
        "\n",
        "model.add(LSTM(units = 50, activation = 'relu', #return_sequences = True, \n",
        "               input_shape = (X_train.shape[1], window_size)))\n",
        "model.add(Dropout(0.2))\n",
        "\n",
        "model.add(Dense(1, activation = 'linear'))\n",
        "model.compile(loss = 'mean_squared_error', optimizer = 'adam')"
      ]
    },
    {
      "cell_type": "code",
      "execution_count": 2,
      "metadata": {},
      "outputs": [
        {
          "data": {
            "text/plain": "0"
          },
          "execution_count": 2,
          "metadata": {},
          "output_type": "execute_result"
        }
      ],
      "source": [
        "import os\n",
        "os.systme(\"mkdir GME1\")"
      ]
    },
    {
      "cell_type": "code",
      "execution_count": null,
      "metadata": {
        "colab": {
          "base_uri": "https://localhost:8080/"
        },
        "id": "UGc1F_NlxfHI",
        "outputId": "27dff93f-4510-435c-85ee-42a230b70d5f"
      },
      "outputs": [],
      "source": [
        "filepath = './GME/model_epoch_{epoch:02d}.hdf5'\n",
        "\n",
        "checkpoint = tf.keras.callbacks.ModelCheckpoint(filepath = filepath,\n",
        "                             monitor = 'val_loss',\n",
        "                             verbose = 1,\n",
        "                             save_best_only = True,\n",
        "                             mode ='min'\n",
        "                            )\n",
        "\n",
        "history = model.fit(X_train, Y_train, epochs = 3000, batch_size = 80, validation_data = (X_test, Y_test), \n",
        "                    callbacks = [checkpoint], \n",
        "                    verbose = 1, shuffle = False)\n",
        "\n",
        "model.summary()"
      ]
    },
    {
      "cell_type": "markdown",
      "metadata": {
        "id": "fT5EXqeWxfHJ"
      },
      "source": [
        "## Why we chose the model at epoch 89\n",
        "The model at epoch 89 had the most similar training and validation losses, which implies that the model is not doing a lot of over or under fitting. As such, we load that model. "
      ]
    },
    {
      "cell_type": "code",
      "execution_count": 29,
      "metadata": {
        "colab": {
          "base_uri": "https://localhost:8080/"
        },
        "id": "JsEyLJSIxfHJ",
        "outputId": "ae60fe93-53bb-4e25-f681-33215fbb5924"
      },
      "outputs": [
        {
          "name": "stdout",
          "output_type": "stream",
          "text": [
            "WARNING:tensorflow:Layer lstm will not use cuDNN kernels since it doesn't meet the criteria. It will use a generic GPU kernel as fallback when running on GPU.\n"
          ]
        }
      ],
      "source": [
        "from keras.models import load_model\n",
        "\n",
        "best_model = load_model('./GME/model_epoch_558.hdf5')\n",
        "\n",
        "# Predicting and inverse transforming the predictions\n",
        "\n",
        "train_predict = best_model.predict(X_train)\n",
        "\n",
        "Y_hat_train = scaler.inverse_transform(train_predict)\n",
        "\n",
        "test_predict = best_model.predict(X_test)\n",
        "\n",
        "Y_hat_test = scaler.inverse_transform(test_predict)\n",
        "\n"
      ]
    },
    {
      "cell_type": "code",
      "execution_count": 22,
      "metadata": {},
      "outputs": [],
      "source": [
        "# Inverse transforming the actual values, to return them to their original values\n",
        "Y_test = scaler.inverse_transform([Y_test])\n",
        "Y_train = scaler.inverse_transform([Y_train])"
      ]
    },
    {
      "cell_type": "code",
      "execution_count": 30,
      "metadata": {
        "id": "qx5RIhm8xfHJ"
      },
      "outputs": [],
      "source": [
        "Y_hat_train = np.reshape(Y_hat_train, newshape = 184)\n",
        "Y_hat_test = np.reshape(Y_hat_test, newshape = 31)\n",
        "\n",
        "Y_train = np.reshape(Y_train, newshape = 184)\n",
        "Y_test = np.reshape(Y_test, newshape = 31)"
      ]
    },
    {
      "cell_type": "markdown",
      "metadata": {
        "id": "hbc6SDO9xfHJ"
      },
      "source": [
        "# Evaluating Model Performance\n",
        "## Computing the RMSE for the training and testing sets"
      ]
    },
    {
      "cell_type": "code",
      "execution_count": 31,
      "metadata": {
        "colab": {
          "base_uri": "https://localhost:8080/"
        },
        "id": "HZ3MvR26xfHJ",
        "outputId": "f66ca0d7-6280-4e3d-d38f-f9cdf206ddba"
      },
      "outputs": [
        {
          "name": "stdout",
          "output_type": "stream",
          "text": [
            "Train RMSE is: \n",
            "0.7116989301979225 \n",
            "\n",
            "Test RMSE is: \n",
            "8.4882838119775\n"
          ]
        }
      ],
      "source": [
        "from sklearn.metrics import mean_squared_error\n",
        "\n",
        "train_RMSE = np.sqrt(mean_squared_error(Y_train, Y_hat_train))\n",
        "\n",
        "test_RMSE = np.sqrt(mean_squared_error(Y_test, Y_hat_test))\n",
        "\n",
        "print('Train RMSE is: ')\n",
        "print(train_RMSE, '\\n')\n",
        "print('Test RMSE is: ')\n",
        "print(test_RMSE)"
      ]
    },
    {
      "cell_type": "markdown",
      "metadata": {
        "id": "TlwYHv3rxfHJ"
      },
      "source": [
        "## Visualizing the actual vs. predicted stock prices"
      ]
    },
    {
      "cell_type": "code",
      "execution_count": 32,
      "metadata": {
        "id": "xBugNOz0xfHJ"
      },
      "outputs": [],
      "source": [
        "Y = np.append(Y_train, Y_test)\n",
        "Y_hat = np.append(Y_hat_train, Y_hat_test)"
      ]
    },
    {
      "cell_type": "code",
      "execution_count": 33,
      "metadata": {
        "colab": {
          "base_uri": "https://localhost:8080/",
          "height": 199
        },
        "id": "YbSOQiuLxfHJ",
        "outputId": "8d733086-3371-4dba-b706-f5010e36da06"
      },
      "outputs": [
        {
          "data": {
            "text/html": "<div>\n<style scoped>\n    .dataframe tbody tr th:only-of-type {\n        vertical-align: middle;\n    }\n\n    .dataframe tbody tr th {\n        vertical-align: top;\n    }\n\n    .dataframe thead th {\n        text-align: right;\n    }\n</style>\n<table border=\"1\" class=\"dataframe\">\n  <thead>\n    <tr style=\"text-align: right;\">\n      <th></th>\n      <th>Actual_Y</th>\n      <th>Predicted_Y</th>\n    </tr>\n  </thead>\n  <tbody>\n    <tr>\n      <th>0</th>\n      <td>4.15</td>\n      <td>4.387855</td>\n    </tr>\n    <tr>\n      <th>1</th>\n      <td>4.14</td>\n      <td>4.390002</td>\n    </tr>\n    <tr>\n      <th>2</th>\n      <td>4.04</td>\n      <td>4.402129</td>\n    </tr>\n    <tr>\n      <th>3</th>\n      <td>3.70</td>\n      <td>4.400368</td>\n    </tr>\n    <tr>\n      <th>4</th>\n      <td>3.56</td>\n      <td>4.341805</td>\n    </tr>\n  </tbody>\n</table>\n</div>",
            "text/plain": "   Actual_Y  Predicted_Y\n0      4.15     4.387855\n1      4.14     4.390002\n2      4.04     4.402129\n3      3.70     4.400368\n4      3.56     4.341805"
          },
          "execution_count": 33,
          "metadata": {},
          "output_type": "execute_result"
        }
      ],
      "source": [
        "result_df = pd.DataFrame()\n",
        "\n",
        "result_df['Actual_Y'] = Y\n",
        "result_df['Predicted_Y'] = Y_hat\n",
        "\n",
        "\n",
        "result_df.head()"
      ]
    },
    {
      "cell_type": "code",
      "execution_count": 34,
      "metadata": {
        "colab": {
          "base_uri": "https://localhost:8080/",
          "height": 693
        },
        "id": "UTA2ZPftxfHJ",
        "outputId": "94e2953a-3473-467c-baeb-2765e693d8b9"
      },
      "outputs": [
        {
          "data": {
            "image/png": "[encoded data removed]",
            "image/svg+xml": "<?xml version=\"1.0\" encoding=\"utf-8\" standalone=\"no\"?>\n<!DOCTYPE svg PUBLIC \"-//W3C//DTD SVG 1.1//EN\"\n  \"http://www.w3.org/Graphics/SVG/1.1/DTD/svg11.dtd\">\n<!-- Created with matplotlib (https://matplotlib.org/) -->\n<svg height=\"363.118923pt\" version=\"1.1\" viewBox=\"0 0 707.5425 363.118923\" width=\"707.5425pt\" xmlns=\"http://www.w3.org/2000/svg\" xmlns:xlink=\"http://www.w3.org/1999/xlink\">\n <metadata>\n  <rdf:RDF xmlns:cc=\"http://creativecommons.org/ns#\" xmlns:dc=\"http://purl.org/dc/elements/1.1/\" xmlns:rdf=\"http://www.w3.org/1999/02/22-rdf-syntax-ns#\">\n   <cc:Work>\n    <dc:type rdf:resource=\"http://purl.org/dc/dcmitype/StillImage\"/>\n    <dc:date>2021-01-27T21:38:07.537586</dc:date>\n    <dc:format>image/svg+xml</dc:format>\n    <dc:creator>\n     <cc:Agent>\n      <dc:title>Matplotlib v3.3.3, https://matplotlib.org/</dc:title>\n     </cc:Agent>\n    </dc:creator>\n   </cc:Work>\n  </rdf:RDF>\n </metadata>\n <defs>\n  <style type=\"text/css\">*{stroke-linecap:butt;stroke-linejoin:round;}</style>\n </defs>\n <g id=\"figure_1\">\n  <g id=\"patch_1\">\n   <path d=\"M 0 363.118923 \nL 707.5425 363.118923 \nL 707.5425 0 \nL 0 0 \nz\n\" style=\"fill:none;\"/>\n  </g>\n  <g id=\"axes_1\">\n   <g id=\"patch_2\">\n    <path d=\"M 30.7425 336.33736 \nL 700.3425 336.33736 \nL 700.3425 10.17736 \nL 30.7425 10.17736 \nz\n\" style=\"fill:#ffffff;\"/>\n   </g>\n   <g id=\"matplotlib.axis_1\">\n    <g id=\"xtick_1\">\n     <g id=\"line2d_1\">\n      <defs>\n       <path d=\"M 0 0 \nL 0 3.5 \n\" id=\"m4567707617\" style=\"stroke:#000000;stroke-width:0.8;\"/>\n      </defs>\n      <g>\n       <use style=\"stroke:#000000;stroke-width:0.8;\" x=\"61.178864\" xlink:href=\"#m4567707617\" y=\"336.33736\"/>\n      </g>\n     </g>\n     <g id=\"text_1\">\n      <!-- 0 -->\n      <g transform=\"translate(57.043239 353.215329)scale(0.13 -0.13)\">\n       <defs>\n        <path d=\"M 31.78125 66.40625 \nQ 24.171875 66.40625 20.328125 58.90625 \nQ 16.5 51.421875 16.5 36.375 \nQ 16.5 21.390625 20.328125 13.890625 \nQ 24.171875 6.390625 31.78125 6.390625 \nQ 39.453125 6.390625 43.28125 13.890625 \nQ 47.125 21.390625 47.125 36.375 \nQ 47.125 51.421875 43.28125 58.90625 \nQ 39.453125 66.40625 31.78125 66.40625 \nz\nM 31.78125 74.21875 \nQ 44.046875 74.21875 50.515625 64.515625 \nQ 56.984375 54.828125 56.984375 36.375 \nQ 56.984375 17.96875 50.515625 8.265625 \nQ 44.046875 -1.421875 31.78125 -1.421875 \nQ 19.53125 -1.421875 13.0625 8.265625 \nQ 6.59375 17.96875 6.59375 36.375 \nQ 6.59375 54.828125 13.0625 64.515625 \nQ 19.53125 74.21875 31.78125 74.21875 \nz\n\" id=\"DejaVuSans-48\"/>\n       </defs>\n       <use xlink:href=\"#DejaVuSans-48\"/>\n      </g>\n     </g>\n    </g>\n    <g id=\"xtick_2\">\n     <g id=\"line2d_2\">\n      <g>\n       <use style=\"stroke:#000000;stroke-width:0.8;\" x=\"203.404862\" xlink:href=\"#m4567707617\" y=\"336.33736\"/>\n      </g>\n     </g>\n     <g id=\"text_2\">\n      <!-- 50 -->\n      <g transform=\"translate(195.133612 353.215329)scale(0.13 -0.13)\">\n       <defs>\n        <path d=\"M 10.796875 72.90625 \nL 49.515625 72.90625 \nL 49.515625 64.59375 \nL 19.828125 64.59375 \nL 19.828125 46.734375 \nQ 21.96875 47.46875 24.109375 47.828125 \nQ 26.265625 48.1875 28.421875 48.1875 \nQ 40.625 48.1875 47.75 41.5 \nQ 54.890625 34.8125 54.890625 23.390625 \nQ 54.890625 11.625 47.5625 5.09375 \nQ 40.234375 -1.421875 26.90625 -1.421875 \nQ 22.3125 -1.421875 17.546875 -0.640625 \nQ 12.796875 0.140625 7.71875 1.703125 \nL 7.71875 11.625 \nQ 12.109375 9.234375 16.796875 8.0625 \nQ 21.484375 6.890625 26.703125 6.890625 \nQ 35.15625 6.890625 40.078125 11.328125 \nQ 45.015625 15.765625 45.015625 23.390625 \nQ 45.015625 31 40.078125 35.4375 \nQ 35.15625 39.890625 26.703125 39.890625 \nQ 22.75 39.890625 18.8125 39.015625 \nQ 14.890625 38.140625 10.796875 36.28125 \nz\n\" id=\"DejaVuSans-53\"/>\n       </defs>\n       <use xlink:href=\"#DejaVuSans-53\"/>\n       <use x=\"63.623047\" xlink:href=\"#DejaVuSans-48\"/>\n      </g>\n     </g>\n    </g>\n    <g id=\"xtick_3\">\n     <g id=\"line2d_3\">\n      <g>\n       <use style=\"stroke:#000000;stroke-width:0.8;\" x=\"345.63086\" xlink:href=\"#m4567707617\" y=\"336.33736\"/>\n      </g>\n     </g>\n     <g id=\"text_3\">\n      <!-- 100 -->\n      <g transform=\"translate(333.223985 353.215329)scale(0.13 -0.13)\">\n       <defs>\n        <path d=\"M 12.40625 8.296875 \nL 28.515625 8.296875 \nL 28.515625 63.921875 \nL 10.984375 60.40625 \nL 10.984375 69.390625 \nL 28.421875 72.90625 \nL 38.28125 72.90625 \nL 38.28125 8.296875 \nL 54.390625 8.296875 \nL 54.390625 0 \nL 12.40625 0 \nz\n\" id=\"DejaVuSans-49\"/>\n       </defs>\n       <use xlink:href=\"#DejaVuSans-49\"/>\n       <use x=\"63.623047\" xlink:href=\"#DejaVuSans-48\"/>\n       <use x=\"127.246094\" xlink:href=\"#DejaVuSans-48\"/>\n      </g>\n     </g>\n    </g>\n    <g id=\"xtick_4\">\n     <g id=\"line2d_4\">\n      <g>\n       <use style=\"stroke:#000000;stroke-width:0.8;\" x=\"487.856859\" xlink:href=\"#m4567707617\" y=\"336.33736\"/>\n      </g>\n     </g>\n     <g id=\"text_4\">\n      <!-- 150 -->\n      <g transform=\"translate(475.449984 353.215329)scale(0.13 -0.13)\">\n       <use xlink:href=\"#DejaVuSans-49\"/>\n       <use x=\"63.623047\" xlink:href=\"#DejaVuSans-53\"/>\n       <use x=\"127.246094\" xlink:href=\"#DejaVuSans-48\"/>\n      </g>\n     </g>\n    </g>\n    <g id=\"xtick_5\">\n     <g id=\"line2d_5\">\n      <g>\n       <use style=\"stroke:#000000;stroke-width:0.8;\" x=\"630.082857\" xlink:href=\"#m4567707617\" y=\"336.33736\"/>\n      </g>\n     </g>\n     <g id=\"text_5\">\n      <!-- 200 -->\n      <g transform=\"translate(617.675982 353.215329)scale(0.13 -0.13)\">\n       <defs>\n        <path d=\"M 19.1875 8.296875 \nL 53.609375 8.296875 \nL 53.609375 0 \nL 7.328125 0 \nL 7.328125 8.296875 \nQ 12.9375 14.109375 22.625 23.890625 \nQ 32.328125 33.6875 34.8125 36.53125 \nQ 39.546875 41.84375 41.421875 45.53125 \nQ 43.3125 49.21875 43.3125 52.78125 \nQ 43.3125 58.59375 39.234375 62.25 \nQ 35.15625 65.921875 28.609375 65.921875 \nQ 23.96875 65.921875 18.8125 64.3125 \nQ 13.671875 62.703125 7.8125 59.421875 \nL 7.8125 69.390625 \nQ 13.765625 71.78125 18.9375 73 \nQ 24.125 74.21875 28.421875 74.21875 \nQ 39.75 74.21875 46.484375 68.546875 \nQ 53.21875 62.890625 53.21875 53.421875 \nQ 53.21875 48.921875 51.53125 44.890625 \nQ 49.859375 40.875 45.40625 35.40625 \nQ 44.1875 33.984375 37.640625 27.21875 \nQ 31.109375 20.453125 19.1875 8.296875 \nz\n\" id=\"DejaVuSans-50\"/>\n       </defs>\n       <use xlink:href=\"#DejaVuSans-50\"/>\n       <use x=\"63.623047\" xlink:href=\"#DejaVuSans-48\"/>\n       <use x=\"127.246094\" xlink:href=\"#DejaVuSans-48\"/>\n      </g>\n     </g>\n    </g>\n   </g>\n   <g id=\"matplotlib.axis_2\">\n    <g id=\"ytick_1\">\n     <g id=\"line2d_6\">\n      <defs>\n       <path d=\"M 0 0 \nL -3.5 0 \n\" id=\"m30d9355313\" style=\"stroke:#000000;stroke-width:0.8;\"/>\n      </defs>\n      <g>\n       <use style=\"stroke:#000000;stroke-width:0.8;\" x=\"30.7425\" xlink:href=\"#m30d9355313\" y=\"332.732685\"/>\n      </g>\n     </g>\n     <g id=\"text_6\">\n      <!-- 0 -->\n      <g transform=\"translate(15.47125 337.671669)scale(0.13 -0.13)\">\n       <use xlink:href=\"#DejaVuSans-48\"/>\n      </g>\n     </g>\n    </g>\n    <g id=\"ytick_2\">\n     <g id=\"line2d_7\">\n      <g>\n       <use style=\"stroke:#000000;stroke-width:0.8;\" x=\"30.7425\" xlink:href=\"#m30d9355313\" y=\"292.658472\"/>\n      </g>\n     </g>\n     <g id=\"text_7\">\n      <!-- 10 -->\n      <g transform=\"translate(7.2 297.597457)scale(0.13 -0.13)\">\n       <use xlink:href=\"#DejaVuSans-49\"/>\n       <use x=\"63.623047\" xlink:href=\"#DejaVuSans-48\"/>\n      </g>\n     </g>\n    </g>\n    <g id=\"ytick_3\">\n     <g id=\"line2d_8\">\n      <g>\n       <use style=\"stroke:#000000;stroke-width:0.8;\" x=\"30.7425\" xlink:href=\"#m30d9355313\" y=\"252.58426\"/>\n      </g>\n     </g>\n     <g id=\"text_8\">\n      <!-- 20 -->\n      <g transform=\"translate(7.2 257.523244)scale(0.13 -0.13)\">\n       <use xlink:href=\"#DejaVuSans-50\"/>\n       <use x=\"63.623047\" xlink:href=\"#DejaVuSans-48\"/>\n      </g>\n     </g>\n    </g>\n    <g id=\"ytick_4\">\n     <g id=\"line2d_9\">\n      <g>\n       <use style=\"stroke:#000000;stroke-width:0.8;\" x=\"30.7425\" xlink:href=\"#m30d9355313\" y=\"212.510047\"/>\n      </g>\n     </g>\n     <g id=\"text_9\">\n      <!-- 30 -->\n      <g transform=\"translate(7.2 217.449032)scale(0.13 -0.13)\">\n       <defs>\n        <path d=\"M 40.578125 39.3125 \nQ 47.65625 37.796875 51.625 33 \nQ 55.609375 28.21875 55.609375 21.1875 \nQ 55.609375 10.40625 48.1875 4.484375 \nQ 40.765625 -1.421875 27.09375 -1.421875 \nQ 22.515625 -1.421875 17.65625 -0.515625 \nQ 12.796875 0.390625 7.625 2.203125 \nL 7.625 11.71875 \nQ 11.71875 9.328125 16.59375 8.109375 \nQ 21.484375 6.890625 26.8125 6.890625 \nQ 36.078125 6.890625 40.9375 10.546875 \nQ 45.796875 14.203125 45.796875 21.1875 \nQ 45.796875 27.640625 41.28125 31.265625 \nQ 36.765625 34.90625 28.71875 34.90625 \nL 20.21875 34.90625 \nL 20.21875 43.015625 \nL 29.109375 43.015625 \nQ 36.375 43.015625 40.234375 45.921875 \nQ 44.09375 48.828125 44.09375 54.296875 \nQ 44.09375 59.90625 40.109375 62.90625 \nQ 36.140625 65.921875 28.71875 65.921875 \nQ 24.65625 65.921875 20.015625 65.03125 \nQ 15.375 64.15625 9.8125 62.3125 \nL 9.8125 71.09375 \nQ 15.4375 72.65625 20.34375 73.4375 \nQ 25.25 74.21875 29.59375 74.21875 \nQ 40.828125 74.21875 47.359375 69.109375 \nQ 53.90625 64.015625 53.90625 55.328125 \nQ 53.90625 49.265625 50.4375 45.09375 \nQ 46.96875 40.921875 40.578125 39.3125 \nz\n\" id=\"DejaVuSans-51\"/>\n       </defs>\n       <use xlink:href=\"#DejaVuSans-51\"/>\n       <use x=\"63.623047\" xlink:href=\"#DejaVuSans-48\"/>\n      </g>\n     </g>\n    </g>\n    <g id=\"ytick_5\">\n     <g id=\"line2d_10\">\n      <g>\n       <use style=\"stroke:#000000;stroke-width:0.8;\" x=\"30.7425\" xlink:href=\"#m30d9355313\" y=\"172.435835\"/>\n      </g>\n     </g>\n     <g id=\"text_10\">\n      <!-- 40 -->\n      <g transform=\"translate(7.2 177.374819)scale(0.13 -0.13)\">\n       <defs>\n        <path d=\"M 37.796875 64.3125 \nL 12.890625 25.390625 \nL 37.796875 25.390625 \nz\nM 35.203125 72.90625 \nL 47.609375 72.90625 \nL 47.609375 25.390625 \nL 58.015625 25.390625 \nL 58.015625 17.1875 \nL 47.609375 17.1875 \nL 47.609375 0 \nL 37.796875 0 \nL 37.796875 17.1875 \nL 4.890625 17.1875 \nL 4.890625 26.703125 \nz\n\" id=\"DejaVuSans-52\"/>\n       </defs>\n       <use xlink:href=\"#DejaVuSans-52\"/>\n       <use x=\"63.623047\" xlink:href=\"#DejaVuSans-48\"/>\n      </g>\n     </g>\n    </g>\n    <g id=\"ytick_6\">\n     <g id=\"line2d_11\">\n      <g>\n       <use style=\"stroke:#000000;stroke-width:0.8;\" x=\"30.7425\" xlink:href=\"#m30d9355313\" y=\"132.361622\"/>\n      </g>\n     </g>\n     <g id=\"text_11\">\n      <!-- 50 -->\n      <g transform=\"translate(7.2 137.300606)scale(0.13 -0.13)\">\n       <use xlink:href=\"#DejaVuSans-53\"/>\n       <use x=\"63.623047\" xlink:href=\"#DejaVuSans-48\"/>\n      </g>\n     </g>\n    </g>\n    <g id=\"ytick_7\">\n     <g id=\"line2d_12\">\n      <g>\n       <use style=\"stroke:#000000;stroke-width:0.8;\" x=\"30.7425\" xlink:href=\"#m30d9355313\" y=\"92.28741\"/>\n      </g>\n     </g>\n     <g id=\"text_12\">\n      <!-- 60 -->\n      <g transform=\"translate(7.2 97.226394)scale(0.13 -0.13)\">\n       <defs>\n        <path d=\"M 33.015625 40.375 \nQ 26.375 40.375 22.484375 35.828125 \nQ 18.609375 31.296875 18.609375 23.390625 \nQ 18.609375 15.53125 22.484375 10.953125 \nQ 26.375 6.390625 33.015625 6.390625 \nQ 39.65625 6.390625 43.53125 10.953125 \nQ 47.40625 15.53125 47.40625 23.390625 \nQ 47.40625 31.296875 43.53125 35.828125 \nQ 39.65625 40.375 33.015625 40.375 \nz\nM 52.59375 71.296875 \nL 52.59375 62.3125 \nQ 48.875 64.0625 45.09375 64.984375 \nQ 41.3125 65.921875 37.59375 65.921875 \nQ 27.828125 65.921875 22.671875 59.328125 \nQ 17.53125 52.734375 16.796875 39.40625 \nQ 19.671875 43.65625 24.015625 45.921875 \nQ 28.375 48.1875 33.59375 48.1875 \nQ 44.578125 48.1875 50.953125 41.515625 \nQ 57.328125 34.859375 57.328125 23.390625 \nQ 57.328125 12.15625 50.6875 5.359375 \nQ 44.046875 -1.421875 33.015625 -1.421875 \nQ 20.359375 -1.421875 13.671875 8.265625 \nQ 6.984375 17.96875 6.984375 36.375 \nQ 6.984375 53.65625 15.1875 63.9375 \nQ 23.390625 74.21875 37.203125 74.21875 \nQ 40.921875 74.21875 44.703125 73.484375 \nQ 48.484375 72.75 52.59375 71.296875 \nz\n\" id=\"DejaVuSans-54\"/>\n       </defs>\n       <use xlink:href=\"#DejaVuSans-54\"/>\n       <use x=\"63.623047\" xlink:href=\"#DejaVuSans-48\"/>\n      </g>\n     </g>\n    </g>\n    <g id=\"ytick_8\">\n     <g id=\"line2d_13\">\n      <g>\n       <use style=\"stroke:#000000;stroke-width:0.8;\" x=\"30.7425\" xlink:href=\"#m30d9355313\" y=\"52.213197\"/>\n      </g>\n     </g>\n     <g id=\"text_13\">\n      <!-- 70 -->\n      <g transform=\"translate(7.2 57.152181)scale(0.13 -0.13)\">\n       <defs>\n        <path d=\"M 8.203125 72.90625 \nL 55.078125 72.90625 \nL 55.078125 68.703125 \nL 28.609375 0 \nL 18.3125 0 \nL 43.21875 64.59375 \nL 8.203125 64.59375 \nz\n\" id=\"DejaVuSans-55\"/>\n       </defs>\n       <use xlink:href=\"#DejaVuSans-55\"/>\n       <use x=\"63.623047\" xlink:href=\"#DejaVuSans-48\"/>\n      </g>\n     </g>\n    </g>\n    <g id=\"ytick_9\">\n     <g id=\"line2d_14\">\n      <g>\n       <use style=\"stroke:#000000;stroke-width:0.8;\" x=\"30.7425\" xlink:href=\"#m30d9355313\" y=\"12.138984\"/>\n      </g>\n     </g>\n     <g id=\"text_14\">\n      <!-- 80 -->\n      <g transform=\"translate(7.2 17.077969)scale(0.13 -0.13)\">\n       <defs>\n        <path d=\"M 31.78125 34.625 \nQ 24.75 34.625 20.71875 30.859375 \nQ 16.703125 27.09375 16.703125 20.515625 \nQ 16.703125 13.921875 20.71875 10.15625 \nQ 24.75 6.390625 31.78125 6.390625 \nQ 38.8125 6.390625 42.859375 10.171875 \nQ 46.921875 13.96875 46.921875 20.515625 \nQ 46.921875 27.09375 42.890625 30.859375 \nQ 38.875 34.625 31.78125 34.625 \nz\nM 21.921875 38.8125 \nQ 15.578125 40.375 12.03125 44.71875 \nQ 8.5 49.078125 8.5 55.328125 \nQ 8.5 64.0625 14.71875 69.140625 \nQ 20.953125 74.21875 31.78125 74.21875 \nQ 42.671875 74.21875 48.875 69.140625 \nQ 55.078125 64.0625 55.078125 55.328125 \nQ 55.078125 49.078125 51.53125 44.71875 \nQ 48 40.375 41.703125 38.8125 \nQ 48.828125 37.15625 52.796875 32.3125 \nQ 56.78125 27.484375 56.78125 20.515625 \nQ 56.78125 9.90625 50.3125 4.234375 \nQ 43.84375 -1.421875 31.78125 -1.421875 \nQ 19.734375 -1.421875 13.25 4.234375 \nQ 6.78125 9.90625 6.78125 20.515625 \nQ 6.78125 27.484375 10.78125 32.3125 \nQ 14.796875 37.15625 21.921875 38.8125 \nz\nM 18.3125 54.390625 \nQ 18.3125 48.734375 21.84375 45.5625 \nQ 25.390625 42.390625 31.78125 42.390625 \nQ 38.140625 42.390625 41.71875 45.5625 \nQ 45.3125 48.734375 45.3125 54.390625 \nQ 45.3125 60.0625 41.71875 63.234375 \nQ 38.140625 66.40625 31.78125 66.40625 \nQ 25.390625 66.40625 21.84375 63.234375 \nQ 18.3125 60.0625 18.3125 54.390625 \nz\n\" id=\"DejaVuSans-56\"/>\n       </defs>\n       <use xlink:href=\"#DejaVuSans-56\"/>\n       <use x=\"63.623047\" xlink:href=\"#DejaVuSans-48\"/>\n      </g>\n     </g>\n    </g>\n   </g>\n   <g id=\"line2d_15\">\n    <path clip-path=\"url(#pd99c364b86)\" d=\"M 61.178864 316.101887 \nL 64.023384 316.141961 \nL 66.867904 316.542703 \nL 69.712424 317.905226 \nL 72.556944 318.466266 \nL 75.401463 319.147527 \nL 78.245983 318.826933 \nL 81.090503 318.305968 \nL 83.935023 317.384262 \nL 86.779543 318.185746 \nL 89.624063 317.624707 \nL 92.468583 316.863297 \nL 95.313103 317.023593 \nL 98.157623 317.905226 \nL 101.002143 315.781293 \nL 103.846663 316.141961 \nL 106.691183 316.783148 \nL 109.535703 314.33862 \nL 112.380223 315.220254 \nL 115.224743 315.781293 \nL 118.069263 317.624707 \nL 120.913783 315.94159 \nL 123.758303 317.664781 \nL 126.602823 317.46441 \nL 129.447343 316.061813 \nL 132.291863 316.021738 \nL 135.136383 315.059958 \nL 137.980903 315.821368 \nL 140.825423 318.105597 \nL 143.669943 318.706711 \nL 146.514463 319.708566 \nL 149.358983 321.311535 \nL 152.203503 321.511905 \nL 155.048023 320.349754 \nL 157.892542 319.628417 \nL 160.737062 319.067379 \nL 163.581582 317.143816 \nL 166.426102 313.737508 \nL 169.270622 308.888529 \nL 172.115142 311.613576 \nL 174.959662 312.575354 \nL 177.804182 313.176469 \nL 180.648702 310.251051 \nL 183.493222 313.57721 \nL 186.337742 313.136396 \nL 189.182262 313.897806 \nL 192.026782 313.617287 \nL 194.871302 309.409492 \nL 197.715822 310.13083 \nL 200.560342 308.52786 \nL 203.404862 309.770161 \nL 206.249382 308.487786 \nL 209.093902 310.772016 \nL 211.938422 311.132685 \nL 214.782942 312.976098 \nL 217.627462 313.216543 \nL 220.471982 312.775727 \nL 226.161022 314.538993 \nL 229.005542 315.861442 \nL 231.850062 316.182035 \nL 234.694582 315.821368 \nL 237.539102 314.378697 \nL 240.383621 314.939734 \nL 246.072661 314.939734 \nL 248.917181 315.981664 \nL 251.761701 315.019882 \nL 254.606221 313.937879 \nL 257.450741 315.380551 \nL 260.295261 316.462555 \nL 265.984301 315.981664 \nL 268.828821 314.939734 \nL 271.673341 314.819513 \nL 274.517861 316.141961 \nL 277.362381 312.655504 \nL 280.206901 312.855876 \nL 283.051421 312.415058 \nL 285.895941 315.220254 \nL 288.740461 313.817657 \nL 294.429501 314.138252 \nL 297.274021 313.657359 \nL 300.118541 312.895951 \nL 302.963061 313.176469 \nL 305.807581 313.216543 \nL 308.652101 313.376841 \nL 311.496621 315.059958 \nL 314.341141 314.859586 \nL 317.185661 315.300403 \nL 320.030181 315.180179 \nL 322.874701 315.340476 \nL 325.71922 314.939734 \nL 328.56374 315.540848 \nL 331.40826 315.74122 \nL 334.25278 316.342331 \nL 337.0973 315.66107 \nL 339.94182 315.861442 \nL 342.78634 315.340476 \nL 345.63086 315.66107 \nL 348.47538 316.382407 \nL 351.3199 315.94159 \nL 354.16442 316.021738 \nL 357.00894 316.863297 \nL 359.85346 317.304113 \nL 362.69798 316.662924 \nL 365.5425 316.262183 \nL 368.38702 316.262183 \nL 371.23154 316.582776 \nL 374.07606 316.662924 \nL 376.92058 316.943445 \nL 379.7651 316.462555 \nL 382.60962 316.302259 \nL 385.45414 316.662924 \nL 388.29866 316.101887 \nL 391.14318 314.97981 \nL 393.9877 314.178324 \nL 396.83222 314.97981 \nL 399.67674 316.061813 \nL 402.52126 315.380551 \nL 405.36578 315.300403 \nL 408.210299 314.619141 \nL 413.899339 313.697434 \nL 416.743859 314.178324 \nL 419.588379 313.456988 \nL 425.277419 314.258473 \nL 428.121939 312.575354 \nL 430.966459 313.216543 \nL 436.655499 312.254762 \nL 442.344539 311.132685 \nL 445.189059 305.963112 \nL 448.033579 302.075911 \nL 450.878099 301.835468 \nL 453.722619 301.394652 \nL 456.567139 302.075911 \nL 459.411659 301.875542 \nL 462.256179 303.278139 \nL 465.100699 307.76645 \nL 467.945219 308.32749 \nL 470.789739 305.041406 \nL 473.634259 304.320068 \nL 476.478779 297.948265 \nL 479.323299 295.864409 \nL 482.167819 294.782405 \nL 485.012339 297.667747 \nL 487.856859 290.414312 \nL 490.701379 292.498176 \nL 493.545898 296.104852 \nL 496.390418 292.578321 \nL 499.234938 292.297803 \nL 502.079458 291.255873 \nL 504.923978 291.856988 \nL 507.768498 293.580177 \nL 510.613018 295.102997 \nL 513.457538 294.822479 \nL 516.302058 296.144927 \nL 519.146578 295.223221 \nL 521.991098 278.672573 \nL 524.835618 284.563478 \nL 527.680138 285.445114 \nL 530.524658 285.124517 \nL 533.369178 283.641776 \nL 536.213698 277.310046 \nL 539.058218 279.393906 \nL 541.902738 276.989454 \nL 544.747258 277.189827 \nL 547.591778 276.228042 \nL 550.436298 272.982032 \nL 553.280818 272.621366 \nL 556.125338 278.832867 \nL 558.969858 281.878508 \nL 561.814378 285.364964 \nL 564.658898 285.725636 \nL 567.503418 290.774983 \nL 570.347938 289.652904 \nL 573.192458 286.36682 \nL 576.036977 289.01172 \nL 578.881497 286.84771 \nL 581.726017 285.204671 \nL 584.570537 277.99131 \nL 587.415057 276.147897 \nL 590.259577 279.393906 \nL 593.104097 281.758284 \nL 595.948617 277.229897 \nL 598.793137 277.229897 \nL 601.637657 273.302629 \nL 604.482177 270.09669 \nL 607.326697 270.497431 \nL 610.171217 254.748266 \nL 613.015737 250.300028 \nL 615.860257 251.983151 \nL 618.704777 248.616918 \nL 621.549297 255.068862 \nL 624.393817 255.549748 \nL 627.238337 257.232863 \nL 630.082857 263.604667 \nL 632.927377 263.123772 \nL 635.771897 259.156425 \nL 638.616417 260.278508 \nL 641.460937 261.841399 \nL 644.305457 252.824704 \nL 647.149977 252.784625 \nL 649.994497 206.899665 \nL 652.839017 172.796492 \nL 655.683537 190.469232 \nL 658.528056 175.00058 \nL 661.372576 175.962369 \nL 664.217096 160.293349 \nL 667.061616 72.21021 \nL 669.906136 25.002815 \nL 669.906136 25.002815 \n\" style=\"fill:none;stroke:#1f77b4;stroke-linecap:square;stroke-width:2;\"/>\n   </g>\n   <g id=\"line2d_16\">\n    <path clip-path=\"url(#pd99c364b86)\" d=\"M 61.178864 315.148701 \nL 69.712424 315.098556 \nL 75.401463 315.545279 \nL 81.090503 315.636591 \nL 95.313103 315.561938 \nL 98.157623 315.378069 \nL 101.002143 315.363542 \nL 103.846663 315.159077 \nL 109.535703 315.016466 \nL 112.380223 314.662734 \nL 115.224743 314.602184 \nL 118.069263 314.716806 \nL 120.913783 315.004538 \nL 126.602823 315.225238 \nL 129.447343 315.337314 \nL 135.136383 315.105815 \nL 140.825423 314.747019 \nL 143.669943 315.160855 \nL 149.358983 315.593199 \nL 157.892542 315.636591 \nL 166.426102 315.636591 \nL 169.270622 315.424207 \nL 172.115142 312.910469 \nL 174.959662 311.584025 \nL 177.804182 310.989072 \nL 180.648702 311.061678 \nL 183.493222 310.404601 \nL 189.182262 312.090244 \nL 192.026782 312.906382 \nL 194.871302 313.206489 \nL 197.715822 311.886299 \nL 200.560342 311.077306 \nL 203.404862 309.632965 \nL 206.249382 309.224784 \nL 209.093902 308.285333 \nL 211.938422 308.137054 \nL 214.782942 308.374229 \nL 217.627462 309.192678 \nL 220.471982 310.568524 \nL 223.316502 311.276405 \nL 226.161022 312.127137 \nL 229.005542 312.319508 \nL 231.850062 313.467713 \nL 234.694582 313.900428 \nL 237.539102 314.17314 \nL 240.383621 313.539864 \nL 243.228141 313.182555 \nL 248.917181 312.982986 \nL 251.761701 313.483797 \nL 254.606221 313.329678 \nL 257.450741 313.328021 \nL 260.295261 313.546193 \nL 263.139781 314.088037 \nL 265.984301 314.445466 \nL 268.828821 314.593858 \nL 274.517861 314.358393 \nL 277.362381 314.569406 \nL 285.895941 311.93114 \nL 288.740461 312.557255 \nL 291.584981 312.767103 \nL 297.274021 312.98319 \nL 305.807581 312.44016 \nL 308.652101 312.527736 \nL 311.496621 312.389749 \nL 314.341141 312.875697 \nL 322.874701 313.774034 \nL 328.56374 313.724618 \nL 331.40826 313.901536 \nL 334.25278 314.411661 \nL 337.0973 314.556429 \nL 345.63086 314.312575 \nL 348.47538 314.219464 \nL 354.16442 314.569913 \nL 357.00894 314.657504 \nL 362.69798 315.210108 \nL 368.38702 315.235482 \nL 374.07606 315.153465 \nL 382.60962 315.250972 \nL 388.29866 315.086865 \nL 391.14318 315.06467 \nL 393.9877 314.801329 \nL 396.83222 314.245368 \nL 399.67674 314.092212 \nL 402.52126 314.308446 \nL 408.210299 314.449531 \nL 413.899339 313.752362 \nL 416.743859 313.382568 \nL 419.588379 313.338212 \nL 422.432899 313.012356 \nL 425.277419 312.900074 \nL 428.121939 313.007458 \nL 430.966459 312.533375 \nL 433.810979 312.412206 \nL 445.189059 310.763561 \nL 448.033579 308.848894 \nL 450.878099 305.874603 \nL 453.722619 303.560947 \nL 456.567139 301.820484 \nL 459.411659 301.13749 \nL 462.256179 300.659935 \nL 465.100699 301.230977 \nL 467.945219 303.310177 \nL 470.789739 305.047625 \nL 473.634259 305.248394 \nL 476.478779 304.729047 \nL 482.167819 299.325887 \nL 485.012339 296.966335 \nL 487.856859 296.011266 \nL 490.701379 292.93995 \nL 493.545898 291.269173 \nL 496.390418 291.629272 \nL 499.234938 291.273358 \nL 502.079458 291.379531 \nL 504.923978 290.882585 \nL 507.768498 291.098122 \nL 510.613018 291.865806 \nL 513.457538 293.17056 \nL 516.302058 293.932717 \nL 519.146578 293.942879 \nL 521.991098 293.515945 \nL 524.835618 287.463924 \nL 527.680138 285.338096 \nL 530.524658 283.590173 \nL 533.369178 283.48645 \nL 536.213698 282.491382 \nL 539.058218 279.645356 \nL 541.902738 279.283812 \nL 544.747258 277.748758 \nL 550.436298 275.938028 \nL 553.280818 274.46851 \nL 556.125338 273.669767 \nL 558.969858 275.758023 \nL 561.814378 278.140062 \nL 564.658898 280.277428 \nL 570.347938 284.018414 \nL 573.192458 286.14879 \nL 576.036977 286.667309 \nL 578.881497 287.579781 \nL 581.726017 286.247422 \nL 584.570537 266.267635 \nL 587.415057 270.430167 \nL 590.259577 272.878862 \nL 593.104097 275.766278 \nL 595.948617 278.137349 \nL 598.793137 278.070949 \nL 601.637657 277.729478 \nL 604.482177 275.571509 \nL 607.326697 272.721779 \nL 610.171217 270.501401 \nL 613.015737 263.494953 \nL 615.860257 258.212266 \nL 621.549297 250.918172 \nL 624.393817 251.169469 \nL 627.238337 253.11272 \nL 630.082857 255.265923 \nL 632.927377 260.372035 \nL 635.771897 263.090471 \nL 638.616417 263.710799 \nL 644.305457 263.46204 \nL 647.149977 260.343441 \nL 649.994497 258.057393 \nL 652.839017 240.655897 \nL 655.683537 216.281 \nL 658.528056 204.150909 \nL 661.372576 190.683892 \nL 664.217096 184.842324 \nL 667.061616 177.764138 \nL 669.906136 143.49222 \nL 669.906136 143.49222 \n\" style=\"fill:none;stroke:#ff7f0e;stroke-linecap:square;stroke-width:2;\"/>\n   </g>\n   <g id=\"patch_3\">\n    <path d=\"M 30.7425 336.33736 \nL 30.7425 10.17736 \n\" style=\"fill:none;stroke:#000000;stroke-linecap:square;stroke-linejoin:miter;stroke-width:0.8;\"/>\n   </g>\n   <g id=\"patch_4\">\n    <path d=\"M 700.3425 336.33736 \nL 700.3425 10.17736 \n\" style=\"fill:none;stroke:#000000;stroke-linecap:square;stroke-linejoin:miter;stroke-width:0.8;\"/>\n   </g>\n   <g id=\"patch_5\">\n    <path d=\"M 30.7425 336.33736 \nL 700.3425 336.33736 \n\" style=\"fill:none;stroke:#000000;stroke-linecap:square;stroke-linejoin:miter;stroke-width:0.8;\"/>\n   </g>\n   <g id=\"patch_6\">\n    <path d=\"M 30.7425 10.17736 \nL 700.3425 10.17736 \n\" style=\"fill:none;stroke:#000000;stroke-linecap:square;stroke-linejoin:miter;stroke-width:0.8;\"/>\n   </g>\n   <g id=\"legend_1\">\n    <g id=\"patch_7\">\n     <path d=\"M 59.9305 58.740485 \nL 162.553313 58.740485 \nQ 165.153313 58.740485 165.153313 56.140485 \nL 165.153313 19.27736 \nQ 165.153313 16.67736 162.553313 16.67736 \nL 59.9305 16.67736 \nQ 57.3305 16.67736 57.3305 19.27736 \nL 57.3305 56.140485 \nQ 57.3305 58.740485 59.9305 58.740485 \nz\n\" style=\"fill:#ffffff;opacity:0.8;stroke:#cccccc;stroke-linejoin:miter;\"/>\n    </g>\n    <g id=\"line2d_17\">\n     <path d=\"M 62.5305 27.205329 \nL 88.5305 27.205329 \n\" style=\"fill:none;stroke:#1f77b4;stroke-linecap:square;stroke-width:2;\"/>\n    </g>\n    <g id=\"line2d_18\"/>\n    <g id=\"text_15\">\n     <!-- Actual -->\n     <g transform=\"translate(98.9305 31.755329)scale(0.13 -0.13)\">\n      <defs>\n       <path d=\"M 34.1875 63.1875 \nL 20.796875 26.90625 \nL 47.609375 26.90625 \nz\nM 28.609375 72.90625 \nL 39.796875 72.90625 \nL 67.578125 0 \nL 57.328125 0 \nL 50.6875 18.703125 \nL 17.828125 18.703125 \nL 11.1875 0 \nL 0.78125 0 \nz\n\" id=\"DejaVuSans-65\"/>\n       <path d=\"M 48.78125 52.59375 \nL 48.78125 44.1875 \nQ 44.96875 46.296875 41.140625 47.34375 \nQ 37.3125 48.390625 33.40625 48.390625 \nQ 24.65625 48.390625 19.8125 42.84375 \nQ 14.984375 37.3125 14.984375 27.296875 \nQ 14.984375 17.28125 19.8125 11.734375 \nQ 24.65625 6.203125 33.40625 6.203125 \nQ 37.3125 6.203125 41.140625 7.25 \nQ 44.96875 8.296875 48.78125 10.40625 \nL 48.78125 2.09375 \nQ 45.015625 0.34375 40.984375 -0.53125 \nQ 36.96875 -1.421875 32.421875 -1.421875 \nQ 20.0625 -1.421875 12.78125 6.34375 \nQ 5.515625 14.109375 5.515625 27.296875 \nQ 5.515625 40.671875 12.859375 48.328125 \nQ 20.21875 56 33.015625 56 \nQ 37.15625 56 41.109375 55.140625 \nQ 45.0625 54.296875 48.78125 52.59375 \nz\n\" id=\"DejaVuSans-99\"/>\n       <path d=\"M 18.3125 70.21875 \nL 18.3125 54.6875 \nL 36.8125 54.6875 \nL 36.8125 47.703125 \nL 18.3125 47.703125 \nL 18.3125 18.015625 \nQ 18.3125 11.328125 20.140625 9.421875 \nQ 21.96875 7.515625 27.59375 7.515625 \nL 36.8125 7.515625 \nL 36.8125 0 \nL 27.59375 0 \nQ 17.1875 0 13.234375 3.875 \nQ 9.28125 7.765625 9.28125 18.015625 \nL 9.28125 47.703125 \nL 2.6875 47.703125 \nL 2.6875 54.6875 \nL 9.28125 54.6875 \nL 9.28125 70.21875 \nz\n\" id=\"DejaVuSans-116\"/>\n       <path d=\"M 8.5 21.578125 \nL 8.5 54.6875 \nL 17.484375 54.6875 \nL 17.484375 21.921875 \nQ 17.484375 14.15625 20.5 10.265625 \nQ 23.53125 6.390625 29.59375 6.390625 \nQ 36.859375 6.390625 41.078125 11.03125 \nQ 45.3125 15.671875 45.3125 23.6875 \nL 45.3125 54.6875 \nL 54.296875 54.6875 \nL 54.296875 0 \nL 45.3125 0 \nL 45.3125 8.40625 \nQ 42.046875 3.421875 37.71875 1 \nQ 33.40625 -1.421875 27.6875 -1.421875 \nQ 18.265625 -1.421875 13.375 4.4375 \nQ 8.5 10.296875 8.5 21.578125 \nz\nM 31.109375 56 \nz\n\" id=\"DejaVuSans-117\"/>\n       <path d=\"M 34.28125 27.484375 \nQ 23.390625 27.484375 19.1875 25 \nQ 14.984375 22.515625 14.984375 16.5 \nQ 14.984375 11.71875 18.140625 8.90625 \nQ 21.296875 6.109375 26.703125 6.109375 \nQ 34.1875 6.109375 38.703125 11.40625 \nQ 43.21875 16.703125 43.21875 25.484375 \nL 43.21875 27.484375 \nz\nM 52.203125 31.203125 \nL 52.203125 0 \nL 43.21875 0 \nL 43.21875 8.296875 \nQ 40.140625 3.328125 35.546875 0.953125 \nQ 30.953125 -1.421875 24.3125 -1.421875 \nQ 15.921875 -1.421875 10.953125 3.296875 \nQ 6 8.015625 6 15.921875 \nQ 6 25.140625 12.171875 29.828125 \nQ 18.359375 34.515625 30.609375 34.515625 \nL 43.21875 34.515625 \nL 43.21875 35.40625 \nQ 43.21875 41.609375 39.140625 45 \nQ 35.0625 48.390625 27.6875 48.390625 \nQ 23 48.390625 18.546875 47.265625 \nQ 14.109375 46.140625 10.015625 43.890625 \nL 10.015625 52.203125 \nQ 14.9375 54.109375 19.578125 55.046875 \nQ 24.21875 56 28.609375 56 \nQ 40.484375 56 46.34375 49.84375 \nQ 52.203125 43.703125 52.203125 31.203125 \nz\n\" id=\"DejaVuSans-97\"/>\n       <path d=\"M 9.421875 75.984375 \nL 18.40625 75.984375 \nL 18.40625 0 \nL 9.421875 0 \nz\n\" id=\"DejaVuSans-108\"/>\n      </defs>\n      <use xlink:href=\"#DejaVuSans-65\"/>\n      <use x=\"66.658203\" xlink:href=\"#DejaVuSans-99\"/>\n      <use x=\"121.638672\" xlink:href=\"#DejaVuSans-116\"/>\n      <use x=\"160.847656\" xlink:href=\"#DejaVuSans-117\"/>\n      <use x=\"224.226562\" xlink:href=\"#DejaVuSans-97\"/>\n      <use x=\"285.505859\" xlink:href=\"#DejaVuSans-108\"/>\n     </g>\n    </g>\n    <g id=\"line2d_19\">\n     <path d=\"M 62.5305 46.286891 \nL 88.5305 46.286891 \n\" style=\"fill:none;stroke:#ff7f0e;stroke-linecap:square;stroke-width:2;\"/>\n    </g>\n    <g id=\"line2d_20\"/>\n    <g id=\"text_16\">\n     <!-- Predicted -->\n     <g transform=\"translate(98.9305 50.836891)scale(0.13 -0.13)\">\n      <defs>\n       <path d=\"M 19.671875 64.796875 \nL 19.671875 37.40625 \nL 32.078125 37.40625 \nQ 38.96875 37.40625 42.71875 40.96875 \nQ 46.484375 44.53125 46.484375 51.125 \nQ 46.484375 57.671875 42.71875 61.234375 \nQ 38.96875 64.796875 32.078125 64.796875 \nz\nM 9.8125 72.90625 \nL 32.078125 72.90625 \nQ 44.34375 72.90625 50.609375 67.359375 \nQ 56.890625 61.8125 56.890625 51.125 \nQ 56.890625 40.328125 50.609375 34.8125 \nQ 44.34375 29.296875 32.078125 29.296875 \nL 19.671875 29.296875 \nL 19.671875 0 \nL 9.8125 0 \nz\n\" id=\"DejaVuSans-80\"/>\n       <path d=\"M 41.109375 46.296875 \nQ 39.59375 47.171875 37.8125 47.578125 \nQ 36.03125 48 33.890625 48 \nQ 26.265625 48 22.1875 43.046875 \nQ 18.109375 38.09375 18.109375 28.8125 \nL 18.109375 0 \nL 9.078125 0 \nL 9.078125 54.6875 \nL 18.109375 54.6875 \nL 18.109375 46.1875 \nQ 20.953125 51.171875 25.484375 53.578125 \nQ 30.03125 56 36.53125 56 \nQ 37.453125 56 38.578125 55.875 \nQ 39.703125 55.765625 41.0625 55.515625 \nz\n\" id=\"DejaVuSans-114\"/>\n       <path d=\"M 56.203125 29.59375 \nL 56.203125 25.203125 \nL 14.890625 25.203125 \nQ 15.484375 15.921875 20.484375 11.0625 \nQ 25.484375 6.203125 34.421875 6.203125 \nQ 39.59375 6.203125 44.453125 7.46875 \nQ 49.3125 8.734375 54.109375 11.28125 \nL 54.109375 2.78125 \nQ 49.265625 0.734375 44.1875 -0.34375 \nQ 39.109375 -1.421875 33.890625 -1.421875 \nQ 20.796875 -1.421875 13.15625 6.1875 \nQ 5.515625 13.8125 5.515625 26.8125 \nQ 5.515625 40.234375 12.765625 48.109375 \nQ 20.015625 56 32.328125 56 \nQ 43.359375 56 49.78125 48.890625 \nQ 56.203125 41.796875 56.203125 29.59375 \nz\nM 47.21875 32.234375 \nQ 47.125 39.59375 43.09375 43.984375 \nQ 39.0625 48.390625 32.421875 48.390625 \nQ 24.90625 48.390625 20.390625 44.140625 \nQ 15.875 39.890625 15.1875 32.171875 \nz\n\" id=\"DejaVuSans-101\"/>\n       <path d=\"M 45.40625 46.390625 \nL 45.40625 75.984375 \nL 54.390625 75.984375 \nL 54.390625 0 \nL 45.40625 0 \nL 45.40625 8.203125 \nQ 42.578125 3.328125 38.25 0.953125 \nQ 33.9375 -1.421875 27.875 -1.421875 \nQ 17.96875 -1.421875 11.734375 6.484375 \nQ 5.515625 14.40625 5.515625 27.296875 \nQ 5.515625 40.1875 11.734375 48.09375 \nQ 17.96875 56 27.875 56 \nQ 33.9375 56 38.25 53.625 \nQ 42.578125 51.265625 45.40625 46.390625 \nz\nM 14.796875 27.296875 \nQ 14.796875 17.390625 18.875 11.75 \nQ 22.953125 6.109375 30.078125 6.109375 \nQ 37.203125 6.109375 41.296875 11.75 \nQ 45.40625 17.390625 45.40625 27.296875 \nQ 45.40625 37.203125 41.296875 42.84375 \nQ 37.203125 48.484375 30.078125 48.484375 \nQ 22.953125 48.484375 18.875 42.84375 \nQ 14.796875 37.203125 14.796875 27.296875 \nz\n\" id=\"DejaVuSans-100\"/>\n       <path d=\"M 9.421875 54.6875 \nL 18.40625 54.6875 \nL 18.40625 0 \nL 9.421875 0 \nz\nM 9.421875 75.984375 \nL 18.40625 75.984375 \nL 18.40625 64.59375 \nL 9.421875 64.59375 \nz\n\" id=\"DejaVuSans-105\"/>\n      </defs>\n      <use xlink:href=\"#DejaVuSans-80\"/>\n      <use x=\"58.552734\" xlink:href=\"#DejaVuSans-114\"/>\n      <use x=\"97.416016\" xlink:href=\"#DejaVuSans-101\"/>\n      <use x=\"158.939453\" xlink:href=\"#DejaVuSans-100\"/>\n      <use x=\"222.416016\" xlink:href=\"#DejaVuSans-105\"/>\n      <use x=\"250.199219\" xlink:href=\"#DejaVuSans-99\"/>\n      <use x=\"305.179688\" xlink:href=\"#DejaVuSans-116\"/>\n      <use x=\"344.388672\" xlink:href=\"#DejaVuSans-101\"/>\n      <use x=\"405.912109\" xlink:href=\"#DejaVuSans-100\"/>\n     </g>\n    </g>\n   </g>\n  </g>\n </g>\n <defs>\n  <clipPath id=\"pd99c364b86\">\n   <rect height=\"326.16\" width=\"669.6\" x=\"30.7425\" y=\"10.17736\"/>\n  </clipPath>\n </defs>\n</svg>\n",
            "text/plain": "<Figure size 864x432 with 1 Axes>"
          },
          "metadata": {
            "needs_background": "light",
            "transient": {}
          },
          "output_type": "display_data"
        }
      ],
      "source": [
        "plt.figure(figsize = (12,6))\n",
        "plt.plot(result_df[\"Actual_Y\"],linewidth=2.0,label = \"Actual\")\n",
        "plt.plot(result_df[\"Predicted_Y\"],linewidth=2.0, label = \"Predicted\")\n",
        "plt.rcParams.update({'font.size': 13})\n",
        "plt.legend(loc=\"upper left\", bbox_to_anchor=(0.03,1))\n",
        "plt.show()"
      ]
    },
    {
      "cell_type": "code",
      "execution_count": null,
      "metadata": {
        "id": "8yxlnp9k2K7l"
      },
      "outputs": [],
      "source": []
    }
  ],
  "metadata": {
    "accelerator": "GPU",
    "colab": {
      "collapsed_sections": [],
      "name": "GME.ipynb",
      "provenance": []
    },
    "kernelspec": {
      "display_name": "Python 3",
      "language": "python",
      "name": "python3"
    },
    "language_info": {
      "codemirror_mode": {
        "name": "ipython",
        "version": 3
      },
      "file_extension": ".py",
      "mimetype": "text/x-python",
      "name": "python",
      "nbconvert_exporter": "python",
      "pygments_lexer": "ipython3",
      "version": "3.7.0"
    }
  },
  "nbformat": 4,
  "nbformat_minor": 0
}